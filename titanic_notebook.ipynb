{
 "cells": [
  {
   "cell_type": "markdown",
   "id": "administrative-computer",
   "metadata": {},
   "source": [
    "# Эксперимент №1. Датасет Титаник"
   ]
  },
  {
   "cell_type": "markdown",
   "id": "strong-channel",
   "metadata": {},
   "source": [
    "## Предобработка датасета"
   ]
  },
  {
   "cell_type": "markdown",
   "id": "prompt-train",
   "metadata": {},
   "source": [
    "Предобработка датасета описана в файле prepocess.ipynb"
   ]
  },
  {
   "cell_type": "markdown",
   "id": "contemporary-setting",
   "metadata": {},
   "source": [
    "## Загрузка датасета и поиск закономерностей"
   ]
  },
  {
   "cell_type": "code",
   "execution_count": 1,
   "id": "white-dairy",
   "metadata": {
    "ExecuteTime": {
     "end_time": "2021-04-25T19:03:39.548144Z",
     "start_time": "2021-04-25T19:03:37.730728Z"
    }
   },
   "outputs": [],
   "source": [
    "#!ls\n",
    "import sys\n",
    "sys.path.extend(['/home/vladislav/Study/Science work/System'])\n",
    "import pandas as pd # работа с датасетом\n",
    "from probconcepts.network.ext_model import ExtBaseModel\n",
    "from probconcepts.network.process import *\n",
    "from tqdm import tqdm\n",
    "from probconcepts.network.ext_mesure import *\n",
    "from sklearn.metrics import roc_auc_score, precision_score, accuracy_score, recall_score, f1_score\n",
    "%load_ext autoreload\n",
    "%autoreload 2"
   ]
  },
  {
   "cell_type": "code",
   "execution_count": 2,
   "id": "scheduled-embassy",
   "metadata": {
    "ExecuteTime": {
     "end_time": "2021-04-25T19:03:39.581431Z",
     "start_time": "2021-04-25T19:03:39.550182Z"
    }
   },
   "outputs": [],
   "source": [
    "PATH = \"exp_titanic/\"\n",
    "ENC_PATH = \"exp_titanic/cd_encoings/\"\n",
    "LOGS_PATH = \"exp_titanic/logs/\""
   ]
  },
  {
   "cell_type": "code",
   "execution_count": 3,
   "id": "hundred-contents",
   "metadata": {
    "ExecuteTime": {
     "end_time": "2021-04-25T19:03:39.819275Z",
     "start_time": "2021-04-25T19:03:39.727103Z"
    }
   },
   "outputs": [
    {
     "data": {
      "text/html": [
       "<div>\n",
       "<style scoped>\n",
       "    .dataframe tbody tr th:only-of-type {\n",
       "        vertical-align: middle;\n",
       "    }\n",
       "\n",
       "    .dataframe tbody tr th {\n",
       "        vertical-align: top;\n",
       "    }\n",
       "\n",
       "    .dataframe thead th {\n",
       "        text-align: right;\n",
       "    }\n",
       "</style>\n",
       "<table border=\"1\" class=\"dataframe\">\n",
       "  <thead>\n",
       "    <tr style=\"text-align: right;\">\n",
       "      <th></th>\n",
       "      <th>Pclass</th>\n",
       "      <th>Sex</th>\n",
       "      <th>Embarked</th>\n",
       "      <th>Title</th>\n",
       "      <th>Age_cat</th>\n",
       "      <th>Fare_cat</th>\n",
       "      <th>FSize</th>\n",
       "    </tr>\n",
       "  </thead>\n",
       "  <tbody>\n",
       "    <tr>\n",
       "      <th>0</th>\n",
       "      <td>3</td>\n",
       "      <td>male</td>\n",
       "      <td>S</td>\n",
       "      <td>Mr</td>\n",
       "      <td>Student</td>\n",
       "      <td>quart_1</td>\n",
       "      <td>2</td>\n",
       "    </tr>\n",
       "    <tr>\n",
       "      <th>1</th>\n",
       "      <td>1</td>\n",
       "      <td>female</td>\n",
       "      <td>C</td>\n",
       "      <td>Mrs</td>\n",
       "      <td>Adult</td>\n",
       "      <td>quart_4</td>\n",
       "      <td>2</td>\n",
       "    </tr>\n",
       "    <tr>\n",
       "      <th>2</th>\n",
       "      <td>3</td>\n",
       "      <td>female</td>\n",
       "      <td>S</td>\n",
       "      <td>Miss</td>\n",
       "      <td>Young</td>\n",
       "      <td>quart_1</td>\n",
       "      <td>1</td>\n",
       "    </tr>\n",
       "    <tr>\n",
       "      <th>3</th>\n",
       "      <td>1</td>\n",
       "      <td>female</td>\n",
       "      <td>S</td>\n",
       "      <td>Mrs</td>\n",
       "      <td>Young</td>\n",
       "      <td>quart_4</td>\n",
       "      <td>2</td>\n",
       "    </tr>\n",
       "    <tr>\n",
       "      <th>4</th>\n",
       "      <td>3</td>\n",
       "      <td>male</td>\n",
       "      <td>S</td>\n",
       "      <td>Mr</td>\n",
       "      <td>Young</td>\n",
       "      <td>quart_2</td>\n",
       "      <td>1</td>\n",
       "    </tr>\n",
       "    <tr>\n",
       "      <th>...</th>\n",
       "      <td>...</td>\n",
       "      <td>...</td>\n",
       "      <td>...</td>\n",
       "      <td>...</td>\n",
       "      <td>...</td>\n",
       "      <td>...</td>\n",
       "      <td>...</td>\n",
       "    </tr>\n",
       "    <tr>\n",
       "      <th>886</th>\n",
       "      <td>2</td>\n",
       "      <td>male</td>\n",
       "      <td>S</td>\n",
       "      <td>Officer</td>\n",
       "      <td>Young</td>\n",
       "      <td>quart_2</td>\n",
       "      <td>1</td>\n",
       "    </tr>\n",
       "    <tr>\n",
       "      <th>887</th>\n",
       "      <td>1</td>\n",
       "      <td>female</td>\n",
       "      <td>S</td>\n",
       "      <td>Miss</td>\n",
       "      <td>Student</td>\n",
       "      <td>quart_3</td>\n",
       "      <td>1</td>\n",
       "    </tr>\n",
       "    <tr>\n",
       "      <th>888</th>\n",
       "      <td>3</td>\n",
       "      <td>female</td>\n",
       "      <td>S</td>\n",
       "      <td>Miss</td>\n",
       "      <td>NaN</td>\n",
       "      <td>quart_3</td>\n",
       "      <td>4</td>\n",
       "    </tr>\n",
       "    <tr>\n",
       "      <th>889</th>\n",
       "      <td>1</td>\n",
       "      <td>male</td>\n",
       "      <td>C</td>\n",
       "      <td>Mr</td>\n",
       "      <td>Young</td>\n",
       "      <td>quart_3</td>\n",
       "      <td>1</td>\n",
       "    </tr>\n",
       "    <tr>\n",
       "      <th>890</th>\n",
       "      <td>3</td>\n",
       "      <td>male</td>\n",
       "      <td>Q</td>\n",
       "      <td>Mr</td>\n",
       "      <td>Young</td>\n",
       "      <td>quart_1</td>\n",
       "      <td>1</td>\n",
       "    </tr>\n",
       "  </tbody>\n",
       "</table>\n",
       "<p>891 rows × 7 columns</p>\n",
       "</div>"
      ],
      "text/plain": [
       "     Pclass     Sex Embarked    Title  Age_cat Fare_cat  FSize\n",
       "0         3    male        S       Mr  Student  quart_1      2\n",
       "1         1  female        C      Mrs    Adult  quart_4      2\n",
       "2         3  female        S     Miss    Young  quart_1      1\n",
       "3         1  female        S      Mrs    Young  quart_4      2\n",
       "4         3    male        S       Mr    Young  quart_2      1\n",
       "..      ...     ...      ...      ...      ...      ...    ...\n",
       "886       2    male        S  Officer    Young  quart_2      1\n",
       "887       1  female        S     Miss  Student  quart_3      1\n",
       "888       3  female        S     Miss      NaN  quart_3      4\n",
       "889       1    male        C       Mr    Young  quart_3      1\n",
       "890       3    male        Q       Mr    Young  quart_1      1\n",
       "\n",
       "[891 rows x 7 columns]"
      ]
     },
     "execution_count": 3,
     "metadata": {},
     "output_type": "execute_result"
    }
   ],
   "source": [
    "# загрузка датасета и вывод информации\n",
    "df = pd.read_csv(PATH + \"processed data/train_titanic.csv\")\n",
    "df"
   ]
  },
  {
   "cell_type": "code",
   "execution_count": 4,
   "id": "disabled-quality",
   "metadata": {
    "ExecuteTime": {
     "end_time": "2021-04-25T19:04:10.231542Z",
     "start_time": "2021-04-25T19:04:10.202585Z"
    }
   },
   "outputs": [
    {
     "name": "stdout",
     "output_type": "stream",
     "text": [
      "\\begin{tabular}{lrlllllr}\n",
      "\\toprule\n",
      "{} &  Pclass &     Sex & Embarked & Title &  Age\\_cat & Fare\\_cat &  FSize \\\\\n",
      "\\midrule\n",
      "0 &       3 &    male &        S &    Mr &  Student &  quart\\_1 &      2 \\\\\n",
      "1 &       1 &  female &        C &   Mrs &    Adult &  quart\\_4 &      2 \\\\\n",
      "2 &       3 &  female &        S &  Miss &    Young &  quart\\_1 &      1 \\\\\n",
      "3 &       1 &  female &        S &   Mrs &    Young &  quart\\_4 &      2 \\\\\n",
      "4 &       3 &    male &        S &    Mr &    Young &  quart\\_2 &      1 \\\\\n",
      "\\bottomrule\n",
      "\\end{tabular}\n",
      "\n"
     ]
    }
   ],
   "source": [
    "print(df.head().to_latex())"
   ]
  },
  {
   "cell_type": "code",
   "execution_count": 8,
   "id": "varied-following",
   "metadata": {
    "ExecuteTime": {
     "end_time": "2021-04-22T04:49:24.329115Z",
     "start_time": "2021-04-22T04:49:24.294416Z"
    }
   },
   "outputs": [
    {
     "name": "stdout",
     "output_type": "stream",
     "text": [
      "\\begin{tabular}{lrlllllr}\n",
      "\\toprule\n",
      "{} &  Pclass &     Sex & Embarked & Title &  Age\\_cat & Fare\\_cat &  FSize \\\\\n",
      "\\midrule\n",
      "0 &       3 &    male &        S &    Mr &  Student &  quart\\_1 &      2 \\\\\n",
      "1 &       1 &  female &        C &   Mrs &    Adult &  quart\\_4 &      2 \\\\\n",
      "2 &       3 &  female &        S &  Miss &    Young &  quart\\_1 &      1 \\\\\n",
      "3 &       1 &  female &        S &   Mrs &    Young &  quart\\_4 &      2 \\\\\n",
      "4 &       3 &    male &        S &    Mr &    Young &  quart\\_2 &      1 \\\\\n",
      "\\bottomrule\n",
      "\\end{tabular}\n",
      "\n"
     ]
    }
   ],
   "source": [
    "print(df.head().to_latex())"
   ]
  },
  {
   "cell_type": "code",
   "execution_count": 8,
   "id": "identified-occasions",
   "metadata": {
    "ExecuteTime": {
     "end_time": "2021-04-21T05:48:42.466176Z",
     "start_time": "2021-04-21T05:48:42.435094Z"
    }
   },
   "outputs": [
    {
     "name": "stdout",
     "output_type": "stream",
     "text": [
      "0 Pclass [3 1 2]\n",
      "1 Sex ['male' 'female']\n",
      "2 Embarked ['S' 'C' 'Q' nan]\n",
      "3 Title ['Mr' 'Mrs' 'Miss' 'Master' 'Royalty' 'Officer' nan]\n",
      "4 Age_cat ['Student' 'Adult' 'Young' nan 'babies' 'Teen' 'Children' 'Senior']\n",
      "5 Fare_cat ['quart_1' 'quart_4' 'quart_2' 'quart_3' nan]\n",
      "6 FSize [ 2  1  5  3  7  6  4  8 11]\n",
      "-------------------------------------\n",
      "<class 'pandas.core.frame.DataFrame'>\n",
      "RangeIndex: 891 entries, 0 to 890\n",
      "Data columns (total 7 columns):\n",
      " #   Column    Non-Null Count  Dtype \n",
      "---  ------    --------------  ----- \n",
      " 0   Pclass    891 non-null    int64 \n",
      " 1   Sex       891 non-null    object\n",
      " 2   Embarked  889 non-null    object\n",
      " 3   Title     890 non-null    object\n",
      " 4   Age_cat   714 non-null    object\n",
      " 5   Fare_cat  876 non-null    object\n",
      " 6   FSize     891 non-null    int64 \n",
      "dtypes: int64(2), object(5)\n",
      "memory usage: 48.9+ KB\n"
     ]
    }
   ],
   "source": [
    "# вывод уникальных значений для каждого признака\n",
    "i = 0\n",
    "for col in df:\n",
    "    print(i, col, df[col].unique())\n",
    "    i+=1\n",
    "print(\"-------------------------------------\")\n",
    "df.info()"
   ]
  },
  {
   "cell_type": "code",
   "execution_count": 9,
   "id": "animal-theorem",
   "metadata": {
    "ExecuteTime": {
     "end_time": "2021-04-21T05:48:50.309352Z",
     "start_time": "2021-04-21T05:48:50.269682Z"
    }
   },
   "outputs": [],
   "source": [
    "from probconcepts.alg.data import *          # работа с выборкой\n",
    "from probconcepts.lang.regularity import *   # алгоритм генерации правил\n",
    "from probconcepts.alg.model import BaseModel \n",
    "from probconcepts.alg.generator import *"
   ]
  },
  {
   "cell_type": "code",
   "execution_count": 53,
   "id": "fantastic-scroll",
   "metadata": {
    "ExecuteTime": {
     "end_time": "2021-04-21T06:04:52.799457Z",
     "start_time": "2021-04-21T06:04:52.721093Z"
    }
   },
   "outputs": [],
   "source": [
    "# генерация выборки (преобразования признаков, создание cd, pe, pt)\n",
    "cat = [0,2,3,4,5,6] # категориальные признаки\n",
    "bools = [1]         # булевы признаки\n",
    "\n",
    "mainSample = Sample(data=df, cat_features=cat, bool_features=bools, \n",
    "                cd_output_path=ENC_PATH+\"train_cd.json\", encoding_output_path=ENC_PATH+\"train_encode.json\")\n",
    "train_lbls = pd.read_csv(PATH+\"processed data/train_lbls_titanic.csv\")\n",
    "y_train = train_lbls['Survived'].values.flatten()\n",
    "\n",
    "\n",
    "# генерация тестовой выборки\n",
    "test = pd.read_csv(PATH + \"processed data/test_titanic.csv\")\n",
    "test_lbls = pd.read_csv(PATH + \"processed data/submission.csv\")\n",
    "y_test = test_lbls['Survived'].values.flatten()\n",
    "\n",
    "mainSampleTest = Sample(data=test, cat_features=cat, bool_features=bools, \n",
    "                cd_output_path=ENC_PATH+\"test_cd.json\", encoding_output_path=ENC_PATH+\"test_encode.json\")"
   ]
  },
  {
   "cell_type": "code",
   "execution_count": 11,
   "id": "impossible-introduction",
   "metadata": {
    "ExecuteTime": {
     "end_time": "2021-04-21T05:51:45.104779Z",
     "start_time": "2021-04-21T05:51:45.079580Z"
    }
   },
   "outputs": [
    {
     "data": {
      "text/plain": [
       "'\\nfor key in mainSample.pt.table.keys():\\n    for pr in range(len(mainSample.pt.table[key])):\\n        build_spcr([mainSample.pt.table[key][pr][0]], md1)\\n        build_spcr([mainSample.pt.table[key][pr][1]], md1)\\n'"
      ]
     },
     "execution_count": 11,
     "metadata": {},
     "output_type": "execute_result"
    }
   ],
   "source": [
    "#     Генерация правил №1\n",
    "# глубина базового перебора -- 1\n",
    "# ограничение на длину правил -- 150\n",
    "# минимальный уровень значимости Фишера -- 0.05\n",
    "# минимальный порог увеличения вероятности правила - 0.0 \n",
    "\n",
    "md1 = BaseModel(mainSample, base_depth=1, fully_depth=150, confidence_level = 0.05, negative_threshold=0.00,\n",
    "               rules_write_path = 'exp_titanic/rules/base1/')\n",
    "\n",
    "# Алгоритм поиска закономерностей: \n",
    "# итерация по всем позитивным предикатам в pt\n",
    "# алгоритм принимает на вход предикат и генерирует все правила, предсказывающие этот предикат,\n",
    "# а также все правила, предсказывающие отрицание этого предиката\n",
    "\n",
    "# Поиск правил занял ~40 минут на 1CPU\n",
    "\n",
    "# для генерации правил раскомментировать следующий код:\n",
    "\"\"\"\n",
    "for key in mainSample.pt.table.keys():\n",
    "    for pr in range(len(mainSample.pt.table[key])):\n",
    "        build_spcr([mainSample.pt.table[key][pr][0]], md1)\n",
    "        build_spcr([mainSample.pt.table[key][pr][1]], md1)\n",
    "\"\"\""
   ]
  },
  {
   "cell_type": "code",
   "execution_count": 12,
   "id": "revised-navigation",
   "metadata": {
    "ExecuteTime": {
     "end_time": "2021-04-21T05:51:47.630791Z",
     "start_time": "2021-04-21T05:51:47.607532Z"
    }
   },
   "outputs": [
    {
     "data": {
      "text/plain": [
       "'\\nfor key in mainSample.pt.table.keys():\\n    for pr in range(len(mainSample.pt.table[key])):\\n        build_spcr([mainSample.pt.table[key][pr][0]], md2)\\n        build_spcr([mainSample.pt.table[key][pr][1]], md2)\\n'"
      ]
     },
     "execution_count": 12,
     "metadata": {},
     "output_type": "execute_result"
    }
   ],
   "source": [
    "#     Генерация правил №2\n",
    "# глубина базового перебора -- 2\n",
    "# ограничение на длину правил -- 150\n",
    "# минимальный уровень значимости Фишера -- 0.05\n",
    "# минимальный порог увеличения вероятности правила - 0.0 \n",
    "\n",
    "md2 = BaseModel(mainSample, base_depth=2, fully_depth=150, confidence_level = 0.05, negative_threshold=0.00,\n",
    "               rules_write_path = 'exp_titanic/rules/base2/')\n",
    "\n",
    "# Алгоритм поиска закономерностей: \n",
    "# итерация по всем позитивным предикатам в pt\n",
    "# алгоритм принимает на вход предикат и генерирует все правила, предсказывающие этот предикат,\n",
    "# а также все правила, предсказывающие отрицание этого предиката\n",
    "\n",
    "# Поиск правил занял ~2.5 часа на 1 CPU\n",
    "\n",
    "# для генерации правил раскомментировать следующий код:\n",
    "\"\"\"\n",
    "for key in mainSample.pt.table.keys():\n",
    "    for pr in range(len(mainSample.pt.table[key])):\n",
    "        build_spcr([mainSample.pt.table[key][pr][0]], md2)\n",
    "        build_spcr([mainSample.pt.table[key][pr][1]], md2)\n",
    "\"\"\""
   ]
  },
  {
   "cell_type": "code",
   "execution_count": 13,
   "id": "collective-boundary",
   "metadata": {
    "ExecuteTime": {
     "end_time": "2021-04-21T05:51:49.576160Z",
     "start_time": "2021-04-21T05:51:49.554143Z"
    }
   },
   "outputs": [
    {
     "data": {
      "text/plain": [
       "'\\nfor key in mainSample.pt.table.keys():\\n    for pr in range(len(mainSample.pt.table[key])):\\n        build_spcr([mainSample.pt.table[key][pr][0]], md3)\\n        build_spcr([mainSample.pt.table[key][pr][1]], md3)\\n'"
      ]
     },
     "execution_count": 13,
     "metadata": {},
     "output_type": "execute_result"
    }
   ],
   "source": [
    "#     Генерация правил №3\n",
    "# глубина базового перебора -- 3\n",
    "# ограничение на длину правил -- 150\n",
    "# минимальный уровень значимости Фишера -- 0.05\n",
    "# минимальный порог увеличения вероятности правила - 0.0 \n",
    "\n",
    "md3 = BaseModel(mainSample, base_depth=3, fully_depth=150, confidence_level = 0.05, negative_threshold=0.00,\n",
    "               rules_write_path = 'exp_titanic/rules/base3/')\n",
    "\n",
    "# Алгоритм поиска закономерностей: \n",
    "# итерация по всем позитивным предикатам в pt\n",
    "# алгоритм принимает на вход предикат и генерирует все правила, предсказывающие этот предикат,\n",
    "# а также все правила, предсказывающие отрицание этого предиката\n",
    "\n",
    "# Поиск правил занял меньше 1 часа на 62 CPU\n",
    "\n",
    "# для генерации правил раскомментировать следующий код:\n",
    "\"\"\"\n",
    "for key in mainSample.pt.table.keys():\n",
    "    for pr in range(len(mainSample.pt.table[key])):\n",
    "        build_spcr([mainSample.pt.table[key][pr][0]], md3)\n",
    "        build_spcr([mainSample.pt.table[key][pr][1]], md3)\n",
    "\"\"\""
   ]
  },
  {
   "cell_type": "code",
   "execution_count": null,
   "id": "interim-flower",
   "metadata": {},
   "outputs": [],
   "source": [
    "#TODO: резюме поиска законов"
   ]
  },
  {
   "cell_type": "markdown",
   "id": "respiratory-today",
   "metadata": {},
   "source": [
    "## Моделирование нейронной сети"
   ]
  },
  {
   "cell_type": "markdown",
   "id": "generic-zambia",
   "metadata": {},
   "source": [
    "Этапы моделирования нейронной сети:\n",
    "1. Используя сгенерированные вероятностные законы построить ассоциативные правила\n",
    "2. Посчитать вероятности у найденных правил и оставить только те, которые удовлетворяют критериям\n",
    "3. Сгенерировать новые предикаты, объединив в одну конъюнкцию посылку и заключение ассоцитивных правил\n",
    "4. Преобразовать датасет, заменив в нём все признаки объектов на новые предикаты (все признаки будут булевы)\n",
    "5. Добавить целеой признак labels для объектов датасета\n",
    "6. Найти все вероятностные законы, предсказывающие целевой признак\n",
    "7. Отобрать все правила, удовлетворяющие критериям\n",
    "8. Используя тестовую выборку, получить предсказания по сгенерированным правилам"
   ]
  },
  {
   "cell_type": "markdown",
   "id": "increased-infection",
   "metadata": {},
   "source": [
    "### Построение ассоциативных правил"
   ]
  },
  {
   "cell_type": "code",
   "execution_count": 14,
   "id": "arranged-plasma",
   "metadata": {
    "ExecuteTime": {
     "end_time": "2021-04-21T05:52:00.876294Z",
     "start_time": "2021-04-21T05:52:00.837147Z"
    }
   },
   "outputs": [],
   "source": [
    "from probconcepts.network.ext_model import ExtBaseModel\n",
    "from probconcepts.network.process import *"
   ]
  },
  {
   "cell_type": "code",
   "execution_count": 15,
   "id": "excited-diabetes",
   "metadata": {
    "ExecuteTime": {
     "end_time": "2021-04-21T05:52:07.143582Z",
     "start_time": "2021-04-21T05:52:07.118707Z"
    }
   },
   "outputs": [],
   "source": [
    "# создание модели (необходима для вычисления вероятностей)\n",
    "extModel = ExtBaseModel(mainSample)\n",
    "\n",
    "# преобразованный словарь типов, необходим для считывания законов из файла\n",
    "ctype_dict = {i : extModel.sample.cd.type_dict[j] for i, j in enumerate(extModel.sample.cd.type_dict)}"
   ]
  },
  {
   "cell_type": "code",
   "execution_count": 16,
   "id": "other-convention",
   "metadata": {
    "ExecuteTime": {
     "end_time": "2021-04-21T05:54:19.580171Z",
     "start_time": "2021-04-21T05:54:16.685616Z"
    }
   },
   "outputs": [
    {
     "name": "stdout",
     "output_type": "stream",
     "text": [
      "Total rules: 32276\n",
      "Total unique premises: 25285\n",
      "Total extrules: 25285\n"
     ]
    }
   ],
   "source": [
    "# загрузка правил с базовым перебором длины 3\n",
    "extrules = find_extrules(\"exp_titanic/rules/base3/\", extModel, ctype_dict)"
   ]
  },
  {
   "cell_type": "code",
   "execution_count": 17,
   "id": "neural-buddy",
   "metadata": {
    "ExecuteTime": {
     "end_time": "2021-04-21T05:56:05.948376Z",
     "start_time": "2021-04-21T05:54:39.185729Z"
    }
   },
   "outputs": [
    {
     "name": "stderr",
     "output_type": "stream",
     "text": [
      "100%|██████████| 25285/25285 [01:26<00:00, 291.54it/s]\n"
     ]
    }
   ],
   "source": [
    "# вычиссление вероятностей для расширенных правил\n",
    "for extrule in tqdm(extrules):\n",
    "    extrule.evaluate(extModel)"
   ]
  },
  {
   "cell_type": "markdown",
   "id": "compliant-motivation",
   "metadata": {},
   "source": [
    "## ТЕСТ №1"
   ]
  },
  {
   "cell_type": "code",
   "execution_count": 98,
   "id": "reliable-semiconductor",
   "metadata": {
    "ExecuteTime": {
     "end_time": "2021-04-21T06:18:00.006580Z",
     "start_time": "2021-04-21T06:17:59.578071Z"
    }
   },
   "outputs": [
    {
     "name": "stdout",
     "output_type": "stream",
     "text": [
      "total sort rules: 58\n",
      "       0      1      2      3      4      5      6      7      8      9  ...  \\\n",
      "0  False  False  False  False  False  False   True  False  False  False  ...   \n",
      "1  False  False  False  False  False  False  False  False  False  False  ...   \n",
      "2  False  False  False  False  False  False  False  False  False  False  ...   \n",
      "3  False  False  False  False  False  False  False  False  False  False  ...   \n",
      "4  False  False  False  False  False  False  False  False  False  False  ...   \n",
      "\n",
      "      49     50     51     52     53     54     55     56     57 Survived  \n",
      "0   True  False  False   True  False  False  False  False  False        0  \n",
      "1  False  False  False  False  False  False  False  False  False        1  \n",
      "2  False  False  False  False   True  False  False  False  False        1  \n",
      "3  False  False  False  False  False  False  False  False  False        1  \n",
      "4  False   True   True   True  False   True  False   True   True        0  \n",
      "\n",
      "[5 rows x 59 columns]\n",
      "{0: 'B', 1: 'B', 2: 'B', 3: 'B', 4: 'B', 5: 'B', 6: 'B', 7: 'B', 8: 'B', 9: 'B', 10: 'B', 11: 'B', 12: 'B', 13: 'B', 14: 'B', 15: 'B', 16: 'B', 17: 'B', 18: 'B', 19: 'B', 20: 'B', 21: 'B', 22: 'B', 23: 'B', 24: 'B', 25: 'B', 26: 'B', 27: 'B', 28: 'B', 29: 'B', 30: 'B', 31: 'B', 32: 'B', 33: 'B', 34: 'B', 35: 'B', 36: 'B', 37: 'B', 38: 'B', 39: 'B', 40: 'B', 41: 'B', 42: 'B', 43: 'B', 44: 'B', 45: 'B', 46: 'B', 47: 'B', 48: 'B', 49: 'B', 50: 'B', 51: 'B', 52: 'B', 53: 'B', 54: 'B', 55: 'B', 56: 'B', 57: 'B', 58: 'C'}\n",
      "Label: 58\n"
     ]
    }
   ],
   "source": [
    "# ищем подходящие правила и преобразуем их в конъюнкции. Это будут новые признаки\n",
    "\n",
    "sort_rules = []\n",
    "for extrule in extrules:\n",
    "    if extrule.prob > 0.70 and len(extrule.conclusion) >= 3 and len(extrule.premise) >= 3:\n",
    "        num_pos = 0\n",
    "        for pr in extrule.premise:\n",
    "            if pr.is_positive():\n",
    "                num_pos += 1\n",
    "        if num_pos >= 1:\n",
    "            num_pos = 0\n",
    "            for pr in extrule.conclusion:\n",
    "                if pr.is_positive():\n",
    "                    num_pos += 1\n",
    "            if num_pos >= 1:\n",
    "                sort_rules.append(extrule)\n",
    "        \n",
    "print(\"total sort rules:\", len(sort_rules))\n",
    "sort_conjs = [extrule.to_conjunction() for extrule in sort_rules]\n",
    "\n",
    "train_lbls = pd.read_csv(PATH+\"processed data/train_lbls_titanic.csv\")\n",
    "new_df = convert_sample(mainSample, sort_conjs)\n",
    "new_df[\"Survived\"] = train_lbls[\"Survived\"]\n",
    "print(new_df.head())\n",
    "\n",
    "lbl = len(sort_conjs)\n",
    "\n",
    "bools = list(range(0, len(sort_conjs)))\n",
    "cats = [lbl]\n",
    "\n",
    "\n",
    "NNsample1 = Sample(data=new_df, bool_features=bools, cat_features=cats, label=lbl,\n",
    "                cd_output_path=ENC_PATH+\"NNexttrain_cd.json\", encoding_output_path=ENC_PATH+\"NNexttrain_encode.json\")\n",
    "\n",
    "NN1ctype_dict = {i : NNsample1.cd.type_dict[j] for i, j in enumerate(NNsample1.cd.type_dict)}\n",
    "\n",
    "print(NN1ctype_dict)\n",
    "print(\"Label:\", lbl)"
   ]
  },
  {
   "cell_type": "code",
   "execution_count": 19,
   "id": "extreme-omega",
   "metadata": {
    "ExecuteTime": {
     "end_time": "2021-04-21T05:56:24.290502Z",
     "start_time": "2021-04-21T05:56:24.250380Z"
    }
   },
   "outputs": [],
   "source": [
    "#     Моделирование NN #1\n",
    "# глубина базового перебора -- 2\n",
    "# ограничение на длину правил -- +inf\n",
    "# минимальный уровень значимости Фишера -- 0.05\n",
    "# минимальный порог увеличения вероятности правила - 0.00 \n",
    "\n",
    "NNmd1 = BaseModel(NNsample1, base_depth=2, fully_depth=999, confidence_level = 0.05, negative_threshold=0.00,\n",
    "               rules_write_path = 'exp_titanic/rules/T1NNRulesBase3_2/')\n",
    "\n",
    "# Алгоритм поиска закономерностей: \n",
    "# итерация по всем позитивным предикатам в pt\n",
    "# алгоритм принимает на вход предикат и генерирует все правила, предсказывающие этот предикат,\n",
    "# а также все правила, предсказывающие отрицание этого предиката\n",
    "\n",
    "# для генерации правил раскомментировать следующий код:\n",
    "#build_spcr([NNsample.pt.table[lbl][0][0]], NNmd1)\n",
    "#build_spcr([NNsample.pt.table[lbl][0][1]], NNmd1)"
   ]
  },
  {
   "cell_type": "markdown",
   "id": "accurate-salmon",
   "metadata": {},
   "source": [
    "### ПРОВЕРКА ТОЧНОСТИ"
   ]
  },
  {
   "cell_type": "code",
   "execution_count": 99,
   "id": "electric-humor",
   "metadata": {
    "ExecuteTime": {
     "end_time": "2021-04-21T06:18:03.971918Z",
     "start_time": "2021-04-21T06:18:03.645096Z"
    }
   },
   "outputs": [
    {
     "name": "stderr",
     "output_type": "stream",
     "text": [
      "100%|██████████| 384/384 [00:00<00:00, 415213.39it/s]\n",
      "100%|██████████| 3677/3677 [00:00<00:00, 219530.49it/s]"
     ]
    },
    {
     "name": "stdout",
     "output_type": "stream",
     "text": [
      "357\n",
      "3592\n",
      "Number common features: 0\n",
      "Number conjs features: 58\n",
      "['conj', 'conj', 'conj', 'conj', 'conj', 'conj', 'conj', 'conj', 'conj', 'conj', 'conj', 'conj', 'conj', 'conj', 'conj', 'conj', 'conj', 'conj', 'conj', 'conj', 'conj', 'conj', 'conj', 'conj', 'conj', 'conj', 'conj', 'conj', 'conj', 'conj', 'conj', 'conj', 'conj', 'conj', 'conj', 'conj', 'conj', 'conj', 'conj', 'conj', 'conj', 'conj', 'conj', 'conj', 'conj', 'conj', 'conj', 'conj', 'conj', 'conj', 'conj', 'conj', 'conj', 'conj', 'conj', 'conj', 'conj', 'conj']\n"
     ]
    },
    {
     "name": "stderr",
     "output_type": "stream",
     "text": [
      "\n"
     ]
    }
   ],
   "source": [
    "neg_rules = decstr(\"exp_titanic/rules/T1NNRulesBase3_2/spcr_<#58 = 0>.txt\", NN1ctype_dict)  # негативные правила (0)\n",
    "pos_rules = decstr(\"exp_titanic/rules/T1NNRulesBase3_2/spcr_<#58 != 0>.txt\", NN1ctype_dict) # позитивные правила (1)\n",
    "\n",
    "# убираем все правила с lbl в посылке\n",
    "neg_rules_sort = []\n",
    "pos_rules_sort = []\n",
    "for rule in tqdm(neg_rules):\n",
    "    add = True\n",
    "    for pr in rule.premise:\n",
    "        if pr.ident == lbl:\n",
    "            add = False\n",
    "            break\n",
    "    if add:\n",
    "        neg_rules_sort.append(rule)\n",
    "\n",
    "for rule in tqdm(pos_rules):\n",
    "    add = True\n",
    "    for pr in rule.premise:\n",
    "        if pr.ident == lbl:\n",
    "            add = False\n",
    "            break\n",
    "    if add:\n",
    "        pos_rules_sort.append(rule)\n",
    "\n",
    "neg_rules_sort = [rule for rule in neg_rules_sort if rule.pvalue < 1e-10] #rule.prob > 0.5]\n",
    "pos_rules_sort = [rule for rule in pos_rules_sort if rule.pvalue < 1e-10] #rule.prob > 0.5]\n",
    "print(len(neg_rules_sort))\n",
    "print(len(pos_rules_sort))\n",
    "\n",
    "num_pr = len(NN1ctype_dict)-1 - len(sort_conjs)\n",
    "types = [\"pr\"]*num_pr + [\"conj\"]*len(sort_conjs)\n",
    "\n",
    "print(\"Number common features:\", num_pr)\n",
    "print(\"Number conjs features:\", len(sort_conjs))\n",
    "print(types)"
   ]
  },
  {
   "cell_type": "code",
   "execution_count": 22,
   "id": "altered-dispatch",
   "metadata": {
    "ExecuteTime": {
     "end_time": "2021-04-21T05:58:00.521770Z",
     "start_time": "2021-04-21T05:56:53.392374Z"
    }
   },
   "outputs": [
    {
     "name": "stderr",
     "output_type": "stream",
     "text": [
      "100%|██████████| 891/891 [01:06<00:00, 13.30it/s]"
     ]
    },
    {
     "name": "stdout",
     "output_type": "stream",
     "text": [
      "All objects\n",
      "accuracy  :  0.35353535353535354\n",
      "precision  :  0.3645833333333333\n",
      "recall  :  0.9210526315789473\n",
      "f1  :  0.5223880597014926\n",
      "roc_auc  :  0.4605263157894737\n",
      "\n",
      "Selected objects\n"
     ]
    },
    {
     "name": "stderr",
     "output_type": "stream",
     "text": [
      "\n"
     ]
    }
   ],
   "source": [
    "preds, sel_preds, metrics, sel_metrics = make_predictions(mainSample.data, y_train, neg_rules_sort, pos_rules_sort, types, sort_conjs,  LOGS_PATH+\"NN1_TR_LOGS.txt\", LOGS_PATH+\"NN1_TR_RULES.txt\")\n",
    "print(\"All objects\")\n",
    "for key, value in metrics.items():\n",
    "    print(key, ' : ', value)\n",
    "print()\n",
    "print(\"Selected objects\")\n",
    "for key, value in sel_metrics.items():\n",
    "    print(key, ' : ', value)"
   ]
  },
  {
   "cell_type": "code",
   "execution_count": 23,
   "id": "failing-healthcare",
   "metadata": {
    "ExecuteTime": {
     "end_time": "2021-04-21T05:58:34.067763Z",
     "start_time": "2021-04-21T05:58:00.527582Z"
    }
   },
   "outputs": [
    {
     "name": "stderr",
     "output_type": "stream",
     "text": [
      "100%|██████████| 418/418 [00:33<00:00, 12.55it/s]\n"
     ]
    },
    {
     "name": "stdout",
     "output_type": "stream",
     "text": [
      "All objects\n",
      "accuracy  :  0.37799043062200954\n",
      "precision  :  0.37799043062200954\n",
      "recall  :  1.0\n",
      "f1  :  0.548611111111111\n",
      "roc_auc  :  0.5\n",
      "\n",
      "Selected objects\n"
     ]
    }
   ],
   "source": [
    "preds, sel_preds, metrics, sel_metrics = make_predictions(mainSampleTest.data, y_test, neg_rules_sort, pos_rules_sort, types, sort_conjs, LOGS_PATH+\"NN1_T_LOGS.txt\", LOGS_PATH+\"NN1_T_RULES.txt\")\n",
    "print(\"All objects\")\n",
    "for key, value in metrics.items():\n",
    "    print(key, ' : ', value)\n",
    "print()\n",
    "print(\"Selected objects\")\n",
    "for key, value in sel_metrics.items():\n",
    "    print(key, ' : ', value)"
   ]
  },
  {
   "cell_type": "code",
   "execution_count": 100,
   "id": "naval-loading",
   "metadata": {
    "ExecuteTime": {
     "end_time": "2021-04-21T06:18:51.723066Z",
     "start_time": "2021-04-21T06:18:16.188227Z"
    }
   },
   "outputs": [
    {
     "name": "stderr",
     "output_type": "stream",
     "text": [
      "100%|██████████| 418/418 [00:35<00:00, 11.78it/s]"
     ]
    },
    {
     "name": "stdout",
     "output_type": "stream",
     "text": [
      "All objects\n",
      "accuracy  :  0.6220095693779905\n",
      "precision  :  0.5\n",
      "recall  :  0.16455696202531644\n",
      "f1  :  0.2476190476190476\n",
      "roc_auc  :  0.5322784810126583\n",
      "\n",
      "Selected objects\n"
     ]
    },
    {
     "name": "stderr",
     "output_type": "stream",
     "text": [
      "\n"
     ]
    }
   ],
   "source": [
    "preds, sel_preds, metrics, sel_metrics = make_predictions(mainSampleTest.data, y_test, neg_rules_sort, pos_rules_sort, types, sort_conjs, LOGS_PATH+\"NN1_T_LOGS.txt\", LOGS_PATH+\"NN1_T_RULES.txt\")\n",
    "print(\"All objects\")\n",
    "for key, value in metrics.items():\n",
    "    print(key, ' : ', value)\n",
    "print()\n",
    "print(\"Selected objects\")\n",
    "for key, value in sel_metrics.items():\n",
    "    print(key, ' : ', value)"
   ]
  },
  {
   "cell_type": "markdown",
   "id": "personal-paper",
   "metadata": {},
   "source": [
    "## ТЕСТ №2"
   ]
  },
  {
   "cell_type": "markdown",
   "id": "seven-universe",
   "metadata": {},
   "source": [
    "добавление полученных конъюнкций к исходным признакам"
   ]
  },
  {
   "cell_type": "code",
   "execution_count": 90,
   "id": "chicken-sensitivity",
   "metadata": {
    "ExecuteTime": {
     "end_time": "2021-04-21T06:15:48.291501Z",
     "start_time": "2021-04-21T06:15:48.082702Z"
    }
   },
   "outputs": [
    {
     "name": "stdout",
     "output_type": "stream",
     "text": [
      "23\n",
      "   Pclass     Sex Embarked Title  Age_cat Fare_cat  FSize      0      1  \\\n",
      "0       3    male        S    Mr  Student  quart_1      2  False  False   \n",
      "1       1  female        C   Mrs    Adult  quart_4      2  False  False   \n",
      "2       3  female        S  Miss    Young  quart_1      1  False  False   \n",
      "3       1  female        S   Mrs    Young  quart_4      2  False  False   \n",
      "4       3    male        S    Mr    Young  quart_2      1  False  False   \n",
      "\n",
      "       2  ...     14     15     16     17     18     19     20     21     22  \\\n",
      "0  False  ...  False  False  False  False  False   True  False  False  False   \n",
      "1  False  ...  False  False  False  False  False  False  False  False  False   \n",
      "2  False  ...  False  False  False  False  False  False  False  False  False   \n",
      "3  False  ...  False  False  False  False  False  False  False  False  False   \n",
      "4  False  ...   True  False  False  False  False  False  False  False  False   \n",
      "\n",
      "  Survived  \n",
      "0        0  \n",
      "1        1  \n",
      "2        1  \n",
      "3        1  \n",
      "4        0  \n",
      "\n",
      "[5 rows x 31 columns]\n",
      "{0: 'C', 1: 'B', 2: 'C', 3: 'C', 4: 'C', 5: 'C', 6: 'C', 7: 'B', 8: 'B', 9: 'B', 10: 'B', 11: 'B', 12: 'B', 13: 'B', 14: 'B', 15: 'B', 16: 'B', 17: 'B', 18: 'B', 19: 'B', 20: 'B', 21: 'B', 22: 'B', 23: 'B', 24: 'B', 25: 'B', 26: 'B', 27: 'B', 28: 'B', 29: 'B', 30: 'C'}\n",
      "Label: 30\n"
     ]
    }
   ],
   "source": [
    "sort_rules = []\n",
    "for extrule in extrules:\n",
    "    if extrule.prob > 0.90 and len(extrule.conclusion) >= 2 and len(extrule.premise) >= 2:\n",
    "        num_pos = 0\n",
    "        for pr in extrule.premise:\n",
    "            if pr.is_positive():\n",
    "                num_pos += 1\n",
    "        if num_pos >= 2:\n",
    "            num_pos = 0\n",
    "            for pr in extrule.conclusion:\n",
    "                if pr.is_positive():\n",
    "                    num_pos += 1\n",
    "            if num_pos >= 2:\n",
    "                sort_rules.append(extrule)\n",
    "print(len(sort_rules))\n",
    "sort_conjs = [extrule.to_conjunction() for extrule in sort_rules]\n",
    "train_lbls = pd.read_csv(PATH+\"processed data/train_lbls_titanic.csv\")\n",
    "df = pd.read_csv(PATH + \"processed data/train_titanic.csv\")\n",
    "new_df = convert_sample(mainSample, sort_conjs)\n",
    "ext_df = pd.concat([df, new_df], axis=1)\n",
    "ext_df[\"Survived\"] = train_lbls[\"Survived\"]\n",
    "print(ext_df.head())\n",
    "\n",
    "num_f = 7\n",
    "lbl = num_f + len(sort_conjs)\n",
    "\n",
    "bools = [1] + list(range(num_f, num_f+len(sort_conjs)))\n",
    "cats = [0,2,3,4,5,6] + [lbl]\n",
    "\n",
    "NNsample2 = Sample(data=ext_df, bool_features=bools, cat_features=cats, label=lbl,\n",
    "                cd_output_path=ENC_PATH+\"NN2train_cd.json\", encoding_output_path=ENC_PATH+\"NN2train_encode.json\")\n",
    "\n",
    "NN2ctype_dict = {i : NNsample2.cd.type_dict[j] for i, j in enumerate(NNsample2.cd.type_dict)}\n",
    "\n",
    "print(NN2ctype_dict)\n",
    "print(\"Label:\", lbl)"
   ]
  },
  {
   "cell_type": "code",
   "execution_count": 84,
   "id": "unable-steam",
   "metadata": {
    "ExecuteTime": {
     "end_time": "2021-04-21T06:13:34.931430Z",
     "start_time": "2021-04-21T06:13:34.901688Z"
    }
   },
   "outputs": [],
   "source": [
    "#     Моделирование NN #2\n",
    "# глубина базового перебора -- 2\n",
    "# ограничение на длину правил -- +inf\n",
    "# минимальный уровень значимости Фишера -- 0.05\n",
    "# минимальный порог увеличения вероятности правила - 0.00 \n",
    "\n",
    "NNmd2 = BaseModel(NNsample2, base_depth=2, fully_depth=999, confidence_level = 0.05, negative_threshold=0.00,\n",
    "               rules_write_path = 'exp_titanic/rules/T2NNRulesBase3_2/')\n",
    "\n",
    "# Алгоритм поиска закономерностей: \n",
    "# итерация по всем позитивным предикатам в pt\n",
    "# алгоритм принимает на вход предикат и генерирует все правила, предсказывающие этот предикат,\n",
    "# а также все правила, предсказывающие отрицание этого предиката\n",
    "\n",
    "# для генерации правил раскомментировать следующий код:\n",
    "#build_spcr([NNsample2.pt.table[lbl][0][0]], NNmd2)\n",
    "#build_spcr([NNsample2.pt.table[lbl][0][1]], NNmd2)"
   ]
  },
  {
   "cell_type": "markdown",
   "id": "loved-effort",
   "metadata": {},
   "source": [
    "### проверка точности"
   ]
  },
  {
   "cell_type": "code",
   "execution_count": 91,
   "id": "connected-spice",
   "metadata": {
    "ExecuteTime": {
     "end_time": "2021-04-21T06:15:56.716714Z",
     "start_time": "2021-04-21T06:15:55.986731Z"
    }
   },
   "outputs": [
    {
     "name": "stderr",
     "output_type": "stream",
     "text": [
      "100%|██████████| 384/384 [00:00<00:00, 192059.71it/s]\n",
      "100%|██████████| 2885/2885 [00:00<00:00, 245806.59it/s]"
     ]
    },
    {
     "name": "stdout",
     "output_type": "stream",
     "text": [
      "Number common features: 7\n",
      "Number conjs features: 23\n",
      "['pr', 'pr', 'pr', 'pr', 'pr', 'pr', 'pr', 'conj', 'conj', 'conj', 'conj', 'conj', 'conj', 'conj', 'conj', 'conj', 'conj', 'conj', 'conj', 'conj', 'conj', 'conj', 'conj', 'conj', 'conj', 'conj', 'conj', 'conj', 'conj', 'conj']\n",
      "False\n",
      "8\n",
      "25\n"
     ]
    },
    {
     "name": "stderr",
     "output_type": "stream",
     "text": [
      "\n"
     ]
    }
   ],
   "source": [
    "neg_rules = decstr(\"exp_titanic/rules/T2NNRulesBase3_2/spcr_<#30 = 0>.txt\", NN2ctype_dict)  # негативные правила (0)\n",
    "pos_rules = decstr(\"exp_titanic/rules/T2NNRulesBase3_2/spcr_<#30 != 0>.txt\", NN2ctype_dict) # позитивные правила (1)\n",
    "lbl = 30\n",
    "# убираем все правила с lbl в посылке\n",
    "\n",
    "neg_rules_sort = []\n",
    "pos_rules_sort = []\n",
    "for rule in tqdm(neg_rules):\n",
    "    add = True\n",
    "    for pr in rule.premise:\n",
    "        if pr.ident == lbl:\n",
    "            add = False\n",
    "            break\n",
    "    if add:\n",
    "        neg_rules_sort.append(rule)\n",
    "\n",
    "for rule in tqdm(pos_rules):\n",
    "    add = True\n",
    "    for pr in rule.premise:\n",
    "        if pr.ident == lbl:\n",
    "            add = False\n",
    "            break\n",
    "    if add:\n",
    "        pos_rules_sort.append(rule)\n",
    "\n",
    "neg_rules_sort = [rule for rule in neg_rules_sort if rule.pvalue < 1e-55]\n",
    "pos_rules_sort = [rule for rule in pos_rules_sort if rule.pvalue < 1e-55]\n",
    "\n",
    "num_pr = len(NN2ctype_dict)-1 - len(sort_conjs)\n",
    "types = [\"pr\"]*num_pr + [\"conj\"]*len(sort_conjs)\n",
    "\n",
    "y_train = train_lbls.values.flatten()\n",
    "\n",
    "print(\"Number common features:\", num_pr)\n",
    "print(\"Number conjs features:\", len(sort_conjs))\n",
    "print(types)\n",
    "print(len(sort_conjs)+len(cats)+len(bools) == len(types)+1)\n",
    "\n",
    "print(len(neg_rules_sort))\n",
    "print(len(pos_rules_sort))\n"
   ]
  },
  {
   "cell_type": "code",
   "execution_count": 67,
   "id": "patient-premiere",
   "metadata": {
    "ExecuteTime": {
     "end_time": "2021-04-21T06:10:53.161670Z",
     "start_time": "2021-04-21T06:10:53.134347Z"
    }
   },
   "outputs": [],
   "source": [
    "# i = 0\n",
    "# print(sort_conjs[i])\n",
    "# print()\n",
    "# print(str_conj_rule(neg_rules_sort[i], NNsample2, types, sort_conjs))\n",
    "# print(NNsample2.pe.inverse_transform(neg_rules_sort[0].premise[4].operation.params))   # neg_rules_sort[0].premise[0])"
   ]
  },
  {
   "cell_type": "code",
   "execution_count": 92,
   "id": "engaged-engineering",
   "metadata": {
    "ExecuteTime": {
     "end_time": "2021-04-21T06:15:59.383283Z",
     "start_time": "2021-04-21T06:15:58.994215Z"
    }
   },
   "outputs": [
    {
     "name": "stderr",
     "output_type": "stream",
     "text": [
      "100%|██████████| 891/891 [00:00<00:00, 2685.87it/s]"
     ]
    },
    {
     "name": "stdout",
     "output_type": "stream",
     "text": [
      "All objects\n",
      "accuracy  :  0.8002244668911336\n",
      "precision  :  0.7515337423312883\n",
      "recall  :  0.716374269005848\n",
      "f1  :  0.7335329341317366\n",
      "roc_auc  :  0.7844166426996453\n",
      "\n",
      "Selected objects\n"
     ]
    },
    {
     "name": "stderr",
     "output_type": "stream",
     "text": [
      "\n"
     ]
    }
   ],
   "source": [
    "\n",
    "preds, sel_preds, metrics, sel_metrics = make_predictions(mainSample.data, y_train, neg_rules_sort, pos_rules_sort, types, sort_conjs, LOGS_PATH+\"NN2_TR_LOGS.txt\", LOGS_PATH+\"NN2_TR_RULES.txt\")\n",
    "print(\"All objects\")\n",
    "for key, value in metrics.items():\n",
    "    print(key, ' : ', value)\n",
    "print()\n",
    "print(\"Selected objects\")\n",
    "for key, value in sel_metrics.items():\n",
    "    print(key, ' : ', value)"
   ]
  },
  {
   "cell_type": "code",
   "execution_count": 93,
   "id": "fewer-cigarette",
   "metadata": {
    "ExecuteTime": {
     "end_time": "2021-04-21T06:16:00.839157Z",
     "start_time": "2021-04-21T06:16:00.601583Z"
    }
   },
   "outputs": [
    {
     "name": "stderr",
     "output_type": "stream",
     "text": [
      "100%|██████████| 418/418 [00:00<00:00, 2099.54it/s]"
     ]
    },
    {
     "name": "stdout",
     "output_type": "stream",
     "text": [
      "All objects\n",
      "accuracy  :  0.7727272727272727\n",
      "precision  :  0.7032258064516129\n",
      "recall  :  0.689873417721519\n",
      "f1  :  0.6964856230031949\n",
      "roc_auc  :  0.7564751703992211\n",
      "\n",
      "Selected objects\n"
     ]
    },
    {
     "name": "stderr",
     "output_type": "stream",
     "text": [
      "\n"
     ]
    }
   ],
   "source": [
    "preds, sel_preds, metrics, sel_metrics = make_predictions(mainSampleTest.data, y_test, neg_rules_sort, pos_rules_sort, types, sort_conjs, LOGS_PATH+\"NN2_T_LOGS.txt\", LOGS_PATH+\"NN2_T_RULES.txt\")\n",
    "print(\"All objects\")\n",
    "for key, value in metrics.items():\n",
    "    print(key, ' : ', value)\n",
    "print()\n",
    "print(\"Selected objects\")\n",
    "for key, value in sel_metrics.items():\n",
    "    print(key, ' : ', value)"
   ]
  },
  {
   "cell_type": "code",
   "execution_count": null,
   "id": "effective-diana",
   "metadata": {},
   "outputs": [],
   "source": [
    "All objects\n",
    "accuracy  :  0.7655502392344498\n",
    "precision  :  0.6973684210526315\n",
    "recall  :  0.6708860759493671\n",
    "f1  :  0.6838709677419355\n",
    "roc_auc  :  0.7469814995131451"
   ]
  },
  {
   "cell_type": "code",
   "execution_count": 93,
   "id": "resistant-classics",
   "metadata": {
    "ExecuteTime": {
     "end_time": "2021-04-13T18:58:20.853167Z",
     "start_time": "2021-04-13T18:58:20.818330Z"
    }
   },
   "outputs": [
    {
     "data": {
      "text/plain": [
       "'<#0 != 1> & <#3 = 0> & <#24 = False> => <#30 = 0> 0.9030612244897959, 7.450641437326582e-61'"
      ]
     },
     "execution_count": 93,
     "metadata": {},
     "output_type": "execute_result"
    }
   ],
   "source": [
    "#rules_neg = make_predictions(mainSampleTest.data, y_test, neg_rules_sort, pos_rules_sort, types, sort_conjs, \"0objLOGS.txt\", \"0objRULES.txt\")\n",
    "str(rules_neg[0])"
   ]
  },
  {
   "cell_type": "code",
   "execution_count": null,
   "id": "living-america",
   "metadata": {},
   "outputs": [],
   "source": [
    "# i = 0\n",
    "# print(sort_conjs[i])\n",
    "# print()\n",
    "# print(str_conj_rule(neg_rules_sort[i], NNsample2, types, sort_conjs))\n",
    "# print(NNsample2.pe.inverse_transform(neg_rules_sort[0].premise[4].operation.params))   # neg_rules_sort[0].premise[0])"
   ]
  },
  {
   "cell_type": "code",
   "execution_count": null,
   "id": "certified-procedure",
   "metadata": {},
   "outputs": [],
   "source": []
  },
  {
   "cell_type": "code",
   "execution_count": 89,
   "id": "certain-glory",
   "metadata": {
    "ExecuteTime": {
     "end_time": "2021-04-13T18:55:17.830212Z",
     "start_time": "2021-04-13T18:55:17.807926Z"
    }
   },
   "outputs": [
    {
     "name": "stdout",
     "output_type": "stream",
     "text": [
      "<#0 = 3> & <#5 != 0> & <#5 != 2> & <#6 = 1> & <#3 = 0> & <#1 = False>\n"
     ]
    }
   ],
   "source": [
    "print(sort_conjs[24-7])"
   ]
  },
  {
   "cell_type": "code",
   "execution_count": 94,
   "id": "recent-newcastle",
   "metadata": {
    "ExecuteTime": {
     "end_time": "2021-04-13T18:59:41.230573Z",
     "start_time": "2021-04-13T18:59:41.193325Z"
    }
   },
   "outputs": [
    {
     "name": "stdout",
     "output_type": "stream",
     "text": [
      "<#Pclass != 1> & <#Title = Mr> & <(<#Pclass = 3> & <#Fare_cat != quart_1> & <#Fare_cat != quart_2> & <#FSize = 1> & <#Title = Mr> & <#Sex = male>) = False> => <#Survived = 0> 0.9030612244897959 7.450641437326582e-61\n"
     ]
    }
   ],
   "source": [
    "print(str_conj_rule(rules_neg[0], NNsample2, types, sort_conjs))"
   ]
  },
  {
   "cell_type": "code",
   "execution_count": null,
   "id": "compatible-classroom",
   "metadata": {},
   "outputs": [],
   "source": [
    "# |0:3| |1:False| |2:0| |3:0| |4:0| |5:0| |6:1|"
   ]
  },
  {
   "cell_type": "markdown",
   "id": "other-ghost",
   "metadata": {},
   "source": [
    "## ТЕСТ №3"
   ]
  },
  {
   "cell_type": "markdown",
   "id": "moderate-german",
   "metadata": {},
   "source": [
    "предсказывание на исходном датасете"
   ]
  },
  {
   "cell_type": "code",
   "execution_count": 94,
   "id": "demographic-biography",
   "metadata": {
    "ExecuteTime": {
     "end_time": "2021-04-21T06:16:09.595004Z",
     "start_time": "2021-04-21T06:16:09.496055Z"
    }
   },
   "outputs": [
    {
     "name": "stdout",
     "output_type": "stream",
     "text": [
      "   Pclass     Sex Embarked Title  Age_cat Fare_cat  FSize  Survived\n",
      "0       3    male        S    Mr  Student  quart_1      2         0\n",
      "1       1  female        C   Mrs    Adult  quart_4      2         1\n",
      "2       3  female        S  Miss    Young  quart_1      1         1\n",
      "3       1  female        S   Mrs    Young  quart_4      2         1\n",
      "4       3    male        S    Mr    Young  quart_2      1         0\n",
      "{0: 'C', 1: 'B', 2: 'C', 3: 'C', 4: 'C', 5: 'C', 6: 'C', 7: 'C'}\n",
      "Label: 7\n"
     ]
    }
   ],
   "source": [
    "conjs = []\n",
    "train_lbls = pd.read_csv(PATH+\"processed data/train_lbls_titanic.csv\")\n",
    "new_df = df\n",
    "new_df[\"Survived\"] = train_lbls[\"Survived\"]\n",
    "print(new_df.head())\n",
    "\n",
    "num_f = 7\n",
    "lbl = num_f\n",
    "\n",
    "bools = [1]\n",
    "cats = [0,2,3,4,5,6] + [lbl]\n",
    "\n",
    "\n",
    "NNsample3 = Sample(data=new_df, bool_features=bools, cat_features=cats, label=lbl,\n",
    "                cd_output_path=ENC_PATH+\"NNexttrain_cd.json\", encoding_output_path=ENC_PATH+\"NNexttrain_encode.json\")\n",
    "\n",
    "NN3ctype_dict = {i : NNsample3.cd.type_dict[j] for i, j in enumerate(NNsample3.cd.type_dict)}\n",
    "\n",
    "print(NN3ctype_dict)\n",
    "print(\"Label:\", lbl)"
   ]
  },
  {
   "cell_type": "code",
   "execution_count": 71,
   "id": "republican-series",
   "metadata": {
    "ExecuteTime": {
     "end_time": "2021-04-21T06:11:06.590758Z",
     "start_time": "2021-04-21T06:11:06.561331Z"
    }
   },
   "outputs": [],
   "source": [
    "#     Моделирование NN #3\n",
    "# глубина базового перебора -- 2\n",
    "# ограничение на длину правил -- +inf\n",
    "# минимальный уровень значимости Фишера -- 0.05\n",
    "# минимальный порог увеличения вероятности правила - 0.00 \n",
    "\n",
    "NNmd3 = BaseModel(NNsample3, base_depth=2, fully_depth=999, confidence_level = 0.05, negative_threshold=0.00,\n",
    "               rules_write_path = 'exp_titanic/rules/T3NNRulesBase3_2/', )\n",
    "\n",
    "# Алгоритм поиска закономерностей: \n",
    "# итерация по всем позитивным предикатам в pt\n",
    "# алгоритм принимает на вход предикат и генерирует все правила, предсказывающие этот предикат,\n",
    "# а также все правила, предсказывающие отрицание этого предиката\n",
    "\n",
    "# для генерации правил раскомментировать следующий код:\n",
    "#build_spcr([NNsample3.pt.table[lbl][0][0]], NNmd3)\n",
    "#build_spcr([NNsample3.pt.table[lbl][0][1]], NNmd3)"
   ]
  },
  {
   "cell_type": "markdown",
   "id": "embedded-headset",
   "metadata": {},
   "source": [
    "### ПРОВЕРКА ТОЧНОСТИ"
   ]
  },
  {
   "cell_type": "code",
   "execution_count": 95,
   "id": "wooden-birthday",
   "metadata": {
    "ExecuteTime": {
     "end_time": "2021-04-21T06:16:11.624699Z",
     "start_time": "2021-04-21T06:16:11.504784Z"
    }
   },
   "outputs": [
    {
     "name": "stderr",
     "output_type": "stream",
     "text": [
      "100%|██████████| 284/284 [00:00<00:00, 217488.10it/s]\n",
      "100%|██████████| 197/197 [00:00<00:00, 180607.19it/s]"
     ]
    },
    {
     "name": "stdout",
     "output_type": "stream",
     "text": [
      "11\n",
      "33\n",
      "Number common features: 7\n",
      "Number conjs features: 0\n",
      "['pr', 'pr', 'pr', 'pr', 'pr', 'pr', 'pr']\n"
     ]
    },
    {
     "name": "stderr",
     "output_type": "stream",
     "text": [
      "\n"
     ]
    }
   ],
   "source": [
    "neg_rules = decstr(\"exp_titanic/rules/T3NNRulesBase3_2/spcr_<#7 = 0>.txt\", NN3ctype_dict)  # негативные правила (0)\n",
    "pos_rules = decstr(\"exp_titanic/rules/T3NNRulesBase3_2/spcr_<#7 != 0>.txt\", NN3ctype_dict) # позитивные правила (1)\n",
    "\n",
    "# убираем все правила с lbl в посылке\n",
    "neg_rules_sort = []\n",
    "pos_rules_sort = []\n",
    "for rule in tqdm(neg_rules):\n",
    "    add = True\n",
    "    for pr in rule.premise:\n",
    "        if pr.ident == lbl:\n",
    "            add = False\n",
    "            break\n",
    "    if add:\n",
    "        neg_rules_sort.append(rule)\n",
    "\n",
    "for rule in tqdm(pos_rules):\n",
    "    add = True\n",
    "    for pr in rule.premise:\n",
    "        if pr.ident == lbl:\n",
    "            add = False\n",
    "            break\n",
    "    if add:\n",
    "        pos_rules_sort.append(rule)\n",
    "\n",
    "neg_rules_sort = [rule for rule in neg_rules_sort if rule.pvalue < 1e-50]\n",
    "pos_rules_sort = [rule for rule in pos_rules_sort if rule.pvalue < 1e-50]\n",
    "print(len(neg_rules_sort))\n",
    "print(len(pos_rules_sort))\n",
    "\n",
    "num_pr = len(NN3ctype_dict)-1 - len(conjs)\n",
    "types = [\"pr\"]*num_pr + [\"conj\"]*len(conjs)\n",
    "\n",
    "y_train = train_lbls.values.flatten()\n",
    "\n",
    "print(\"Number common features:\", num_pr)\n",
    "print(\"Number conjs features:\", len(conjs))\n",
    "print(types)"
   ]
  },
  {
   "cell_type": "code",
   "execution_count": 96,
   "id": "maritime-ordinary",
   "metadata": {
    "ExecuteTime": {
     "end_time": "2021-04-21T06:16:14.071694Z",
     "start_time": "2021-04-21T06:16:13.645438Z"
    }
   },
   "outputs": [
    {
     "name": "stderr",
     "output_type": "stream",
     "text": [
      "100%|██████████| 891/891 [00:00<00:00, 2418.14it/s]"
     ]
    },
    {
     "name": "stdout",
     "output_type": "stream",
     "text": [
      "All objects\n",
      "accuracy  :  0.8013468013468014\n",
      "precision  :  0.7522935779816514\n",
      "recall  :  0.7192982456140351\n",
      "f1  :  0.73542600896861\n",
      "roc_auc  :  0.7858786310037389\n",
      "\n",
      "Selected objects\n"
     ]
    },
    {
     "name": "stderr",
     "output_type": "stream",
     "text": [
      "\n"
     ]
    }
   ],
   "source": [
    "preds, sel_preds, metrics, sel_metrics = make_predictions(mainSample.data, y_train, neg_rules_sort, pos_rules_sort, types, [], LOGS_PATH+\"NN3_TR_LOGS.txt\", LOGS_PATH+\"NN3_TR_RULES.txt\")\n",
    "\n",
    "print(\"All objects\")\n",
    "for key, value in metrics.items():\n",
    "    print(key, ' : ', value)\n",
    "print()\n",
    "print(\"Selected objects\")\n",
    "for key, value in sel_metrics.items():\n",
    "    print(key, ' : ', value)"
   ]
  },
  {
   "cell_type": "code",
   "execution_count": 97,
   "id": "vietnamese-landscape",
   "metadata": {
    "ExecuteTime": {
     "end_time": "2021-04-21T06:16:15.707813Z",
     "start_time": "2021-04-21T06:16:15.408308Z"
    }
   },
   "outputs": [
    {
     "name": "stderr",
     "output_type": "stream",
     "text": [
      "100%|██████████| 418/418 [00:00<00:00, 2038.73it/s]"
     ]
    },
    {
     "name": "stdout",
     "output_type": "stream",
     "text": [
      "All objects\n",
      "accuracy  :  0.7655502392344498\n",
      "precision  :  0.6973684210526315\n",
      "recall  :  0.6708860759493671\n",
      "f1  :  0.6838709677419355\n",
      "roc_auc  :  0.7469814995131451\n",
      "\n",
      "Selected objects\n"
     ]
    },
    {
     "name": "stderr",
     "output_type": "stream",
     "text": [
      "\n"
     ]
    }
   ],
   "source": [
    "# проверка на тестовой выборке\n",
    "preds, sel_preds, metrics, sel_metrics = make_predictions(mainSampleTest.data, y_test, neg_rules_sort, pos_rules_sort, types, [], LOGS_PATH+\"NN3_T_LOGS.txt\", LOGS_PATH+\"NN3_T_RULES.txt\")\n",
    "print(\"All objects\")\n",
    "for key, value in metrics.items():\n",
    "    print(key, ' : ', value)\n",
    "print()\n",
    "print(\"Selected objects\")\n",
    "for key, value in sel_metrics.items():\n",
    "    print(key, ' : ', value)"
   ]
  },
  {
   "cell_type": "markdown",
   "id": "owned-analyst",
   "metadata": {
    "ExecuteTime": {
     "end_time": "2021-04-07T15:18:54.553513Z",
     "start_time": "2021-04-07T15:18:54.493512Z"
    }
   },
   "source": [
    "## Вторая часть тестов"
   ]
  },
  {
   "cell_type": "markdown",
   "id": "raised-viking",
   "metadata": {
    "ExecuteTime": {
     "end_time": "2021-04-07T15:18:49.564386Z",
     "start_time": "2021-04-07T15:18:49.506306Z"
    }
   },
   "source": [
    "Добавление конъюнкций в признаки не повысило точности предсказаний, а предсказания на исходых признаков были лучше, чем  предсказания с использованием конъюнкций. В этой части тестов конъюнкции будут выбираться не просто по вероятностям, а по количеству объектов, на которых они выполняются"
   ]
  },
  {
   "cell_type": "code",
   "execution_count": 101,
   "id": "unauthorized-hours",
   "metadata": {
    "ExecuteTime": {
     "end_time": "2021-04-21T06:20:06.247835Z",
     "start_time": "2021-04-21T06:20:06.204682Z"
    }
   },
   "outputs": [],
   "source": [
    "from probconcepts.network.ext_mesure import calc_supp"
   ]
  },
  {
   "cell_type": "code",
   "execution_count": 102,
   "id": "incorporated-intelligence",
   "metadata": {
    "ExecuteTime": {
     "end_time": "2021-04-21T06:21:36.105548Z",
     "start_time": "2021-04-21T06:20:09.125704Z"
    }
   },
   "outputs": [
    {
     "name": "stderr",
     "output_type": "stream",
     "text": [
      "100%|██████████| 1286/1286 [01:26<00:00, 14.81it/s]\n"
     ]
    },
    {
     "data": {
      "text/plain": [
       "1286"
      ]
     },
     "execution_count": 102,
     "metadata": {},
     "output_type": "execute_result"
    }
   ],
   "source": [
    "# предполагается, что правила уже загружены и вероятности в них посчитаны\n",
    "\n",
    "# хеширование правила по посылке\n",
    "\n",
    "def hash_by_premise(extrule):\n",
    "    prem_set = set(extrule.premise)\n",
    "    return hash(frozenset(prem_set))\n",
    "\n",
    "def hash_by_concl(extrule):\n",
    "    concl_set = set(extrule.conclusion)\n",
    "    return hash(frozenset(concl_set))\n",
    "\n",
    "# правила с уникальной посылкой и заключением\n",
    "same_concl_rules = {}\n",
    "\n",
    "for extrule in extrules:\n",
    "    try:\n",
    "        same_concl_rules[hash_by_concl(extrule)].append(extrule)\n",
    "    except:\n",
    "        same_concl_rules[hash_by_concl(extrule)] = list()\n",
    "        same_concl_rules[hash_by_concl(extrule)].append(extrule)\n",
    "        \n",
    "# отбор правил с носителем >100 и вероятностью на носителе > 0.5\n",
    "to_MSR_rules = []\n",
    "for k in tqdm(same_concl_rules.keys()):\n",
    "    arr = []\n",
    "    for rule in same_concl_rules[k]:\n",
    "        top, bot = calc_supp(rule, extModel)\n",
    "        if rule.prob > 0.5 and bot > 100:\n",
    "            arr.append(rule)\n",
    "    to_MSR_rules.append(arr)\n",
    "    \n",
    "len(to_MSR_rules)    "
   ]
  },
  {
   "cell_type": "code",
   "execution_count": 103,
   "id": "motivated-connection",
   "metadata": {
    "ExecuteTime": {
     "end_time": "2021-04-21T06:22:20.072372Z",
     "start_time": "2021-04-21T06:22:19.971285Z"
    }
   },
   "outputs": [
    {
     "name": "stdout",
     "output_type": "stream",
     "text": [
      "14949\n"
     ]
    }
   ],
   "source": [
    "i = 0\n",
    "for pr in range(len(to_MSR_rules)):\n",
    "    i += len(to_MSR_rules[pr])\n",
    "print(i)        "
   ]
  },
  {
   "cell_type": "code",
   "execution_count": 104,
   "id": "considerable-example",
   "metadata": {
    "ExecuteTime": {
     "end_time": "2021-04-21T06:22:21.960734Z",
     "start_time": "2021-04-21T06:22:21.871355Z"
    }
   },
   "outputs": [
    {
     "name": "stdout",
     "output_type": "stream",
     "text": [
      "Total MSR rules: 250\n"
     ]
    }
   ],
   "source": [
    "MSR_rules = []\n",
    "for k in range(len(to_MSR_rules)):\n",
    "    try: \n",
    "        max_prob_rule = to_MSR_rules[k][0]\n",
    "        for rule in to_MSR_rules[k]:\n",
    "            if rule.prob > max_prob_rule.prob:\n",
    "                max_prob_rule = rule\n",
    "        MSR_rules.append(max_prob_rule)\n",
    "    except:\n",
    "        continue\n",
    "\n",
    "print(\"Total MSR rules:\", len(MSR_rules))"
   ]
  },
  {
   "cell_type": "code",
   "execution_count": 79,
   "id": "balanced-manner",
   "metadata": {
    "ExecuteTime": {
     "end_time": "2021-04-13T13:05:05.065182Z",
     "start_time": "2021-04-13T13:05:04.965249Z"
    }
   },
   "outputs": [
    {
     "name": "stdout",
     "output_type": "stream",
     "text": [
      "<#0 != 1> & <#4 = 0> & <#6 != 5> & <#6 != 3> & <#6 != 4> => <#5 != 1>  0.9833333333333333, 3.014899689546847e-17\n",
      "<#1 = False> & <#4 != 3> & <#6 != 2> & <#6 != 3> & <#6 != 6> & <#6 != 4> & <#6 != 8> => <#5 != 1> & <#6 = 1>  0.9039735099337748, 1.7052650009978737e-89\n",
      "<#0 = 3> & <#4 != 2> & <#6 = 1> => <#5 != 1> & <#4 = 0>  0.5533333333333333, 1.0568800325190567e-33\n",
      "<#0 = 2> & <#4 != 3> & <#6 != 3> => <#5 != 1> & <#5 = 2>  0.6, 7.239240198853809e-21\n",
      "<#0 = 3> & <#1 = False> & <#4 != 3> & <#6 != 6> => <#5 != 1> & <#5 = 0>  0.5454545454545454, 1.4125336951860918e-46\n",
      "<#0 = 3> & <#1 = False> & <#6 != 6> & <#6 != 8> => <#5 != 1> & <#3 = 0>  0.9118541033434651, 3.5745763910810985e-100\n",
      "<#0 != 1> & <#0 != 2> & <#2 != 0> => <#5 != 1> & <#2 = 2>  0.5214285714285715, 2.190366183052352e-62\n",
      "<#0 != 1> & <#3 != 2> & <#6 != 3> => <#5 != 1> & <#6 = 1> & <#3 = 0> & <#1 = False>  0.6652452025586354, 3.2514179325418264e-73\n",
      "<#1 = False> & <#4 != 1> & <#4 != 3> & <#6 != 6> & <#6 != 8> => <#5 != 1> & <#6 = 1> & <#3 = 0>  0.6870748299319728, 1.187627337675548e-50\n",
      "<#0 = 2> & <#2 != 1> => <#5 != 1> & <#2 = 0>  0.8711656441717791, 9.039624398755437e-22\n",
      "<#0 = 2> & <#6 != 3> & <#6 != 4> => <#5 != 1> & <#5 = 2> & <#4 != 3>  0.6335877862595419, 1.1287371527520024e-24\n",
      "<#4 = 0> & <#6 != 2> & <#6 != 6> & <#6 != 4> => <#5 != 1> & <#0 = 3> & <#6 = 1>  0.664, 6.796049968673478e-20\n",
      "<#2 != 1> & <#4 = 0> & <#6 != 3> & <#6 != 6> & <#6 != 4> => <#5 != 1> & <#0 = 3>  0.7394957983193278, 3.5660994110078825e-12\n",
      "<#2 = 0> & <#4 = 0> & <#6 != 6> => <#5 != 1> & <#0 != 1>  0.873015873015873, 5.219868318482915e-09\n",
      "<#2 != 1> & <#3 != 1> & <#4 != 3> => <#5 != 1> & <#6 = 1> & <#6 != 3>  0.6541850220264317, 4.987122836272061e-32\n",
      "<#2 != 1> & <#3 != 1> & <#6 != 2> => <#5 != 1> & <#0 = 3> & <#5 != 3>  0.5101289134438306, 1.0858216141594885e-16\n",
      "<#2 != 1> & <#3 != 1> & <#6 != 7> => <#5 != 1> & <#6 = 1> & <#1 = False>  0.5174129353233831, 3.1262495372448245e-22\n",
      "<#2 != 1> & <#3 != 2> & <#4 != 1> => <#5 != 1> & <#1 = False>  0.7164634146341463, 3.0613428260982434e-28\n",
      "<#3 != 2> & <#4 = 0> & <#6 != 4> => <#5 != 1> & <#3 = 0> & <#1 = False>  0.7711864406779662, 4.948378672830652e-15\n",
      "<#3 != 3> & <#4 != 1> & <#6 != 2> => <#5 != 1> & <#5 != 3>  0.631979695431472, 1.2229765725822873e-18\n",
      "<#3 = 0> & <#4 != 6> & <#6 = 1> => <#5 != 1> & <#0 = 3> & <#0 != 1>  0.6494464944649446, 9.545884060857832e-17\n",
      "<#3 != 1> & <#4 != 5> & <#6 != 2> => <#5 != 1> & <#6 = 1> & <#5 != 3>  0.5793814432989691, 1.829250794766548e-46\n",
      "<#3 != 2> & <#4 != 1> & <#6 != 2> => <#5 != 1> & <#0 != 1> & <#1 = False>  0.696875, 2.450898526139027e-34\n",
      "<#3 != 2> & <#6 != 3> & <#6 != 6> => <#5 != 1> & <#3 = 0> & <#4 != 3>  0.6346153846153846, 7.45850108326168e-49\n",
      "<#3 != 2> & <#6 != 3> & <#6 != 4> => <#5 != 1> & <#3 = 0> & <#1 = False> & <#4 != 3>  0.6303418803418803, 2.104478049395654e-46\n",
      "<#3 != 2> & <#6 != 6> & <#6 != 8> => <#5 != 1> & <#4 != 5> & <#3 = 0>  0.5884543761638734, 6.73199575591148e-52\n",
      "<#4 != 3> & <#6 != 3> & <#6 != 8> => <#5 != 1> & <#6 = 1> & <#3 != 3>  0.5962199312714777, 3.483650698089514e-41\n",
      "<#4 != 5> & <#6 != 3> & <#6 != 4> => <#5 != 1> & <#3 = 0> & <#3 != 3>  0.5148861646234676, 8.782103256472364e-14\n",
      "<#1 = False> & <#6 = 1> => <#5 != 1> & <#0 = 3> & <#0 != 1> & <#3 = 0>  0.6381909547738693, 8.258497060113873e-67\n",
      "<#6 != 2> & <#6 != 1> & <#6 != 5> => <#6 = 3>  0.5722222222222222, 1.7530078566727535e-85\n",
      "<#1 = True> & <#3 != 2> & <#3 != 4> & <#3 != 5> => <#3 = 1>  0.9922480620155039, 1.02338702237422e-157\n",
      "<#3 != 0> & <#3 != 3> & <#6 != 1> => <#3 = 1> & <#1 = True>  0.5408163265306123, 1.7177538147748178e-59\n",
      "<#2 != 0> & <#4 != 2> => <#3 != 0>  0.6033057851239669, 5.73553089597206e-05\n",
      "<#4 != 1> & <#4 != 6> & <#5 = 3> => <#3 != 0> & <#6 != 1>  0.6086956521739131, 3.3208472025526202e-15\n",
      "<#3 = 1> => <#3 != 0> & <#4 != 5> & <#2 != 2> & <#3 != 2> & <#3 != 3> & <#1 = True> & <#4 != 3>  0.972972972972973, 1.3383994696408653e-122\n",
      "<#3 = 2> => <#3 != 0> & <#3 != 1> & <#3 != 5> & <#4 != 6> & <#3 != 3> & <#1 = True>  0.9866666666666667, 1.6201139098002705e-152\n",
      "<#1 = True> => <#3 != 0> & <#3 != 5> & <#4 != 6> & <#3 != 3>  0.9809160305343512, 1.148086393850135e-186\n",
      "<#0 = 1> & <#3 != 3> => <#4 != 5>  0.9945652173913043, 0.000544201617535986\n",
      "<#3 = 0> => <#4 != 5> & <#3 != 1> & <#3 != 5> & <#6 != 5> & <#3 != 4> & <#6 != 4> & <#3 != 2> & <#3 != 3> & <#1 = False> & <#4 != 3> & <#6 != 7>  0.9775, 2.6327306067019033e-196\n",
      "<#3 != 2> & <#3 != 3> => <#4 != 5> & <#6 != 5> & <#4 != 3>  0.9887005649717514, 7.038709766427279e-41\n",
      "<#3 != 2> & <#6 != 8> => <#4 != 5> & <#3 = 0>  0.7064056939501779, 5.1052072975239124e-64\n",
      "<#3 != 3> & <#5 = 2> => <#4 != 5> & <#3 = 0> & <#6 != 3> & <#6 != 2>  0.5967741935483871, 1.4117449007342241e-08\n",
      "<#4 = 0> => <#4 != 5> & <#4 != 1> & <#4 != 6> & <#3 != 3> & <#4 != 3> & <#4 != 4> & <#4 != 2>  0.9939024390243902, 3.2452289438465575e-165\n",
      "<#4 = 2> => <#4 != 5> & <#4 != 0> & <#4 != 1> & <#6 != 6> & <#4 != 6> & <#3 != 3> & <#4 != 3> & <#4 != 4> & <#6 != 7>  0.9949238578680203, 6.333766345078896e-181\n",
      "<#5 != 3> & <#6 != 8> => <#4 != 5> & <#3 = 0> & <#3 != 3>  0.599624060150376, 1.40178963748637e-05\n",
      "<#6 != 8> => <#4 != 5> & <#3 != 3>  0.9351198871650211, 0.004970269141389449\n",
      "<#1 = False> & <#3 != 3> => <#4 != 5> & <#6 != 5> & <#6 != 4> & <#4 != 3> & <#6 != 7>  0.9785202863961814, 1.9599207413449887e-28\n",
      "<#0 != 1> & <#0 != 2> => <#0 = 3> & <#3 != 5>  0.9979716024340771, 5.280049230180774e-265\n",
      "<#0 != 1> & <#5 = 0> => <#0 = 3>  0.9955947136563876, 2.038896009679636e-71\n",
      "<#0 != 1> & <#5 != 2> & <#5 != 3> & <#6 = 1> => <#0 = 3> & <#5 = 0>  0.9497716894977168, 2.0205278702834647e-164\n",
      "<#0 != 2> & <#5 = 2> => <#0 = 3> & <#4 != 1>  0.8285714285714286, 5.401222495446786e-21\n",
      "<#0 != 2> & <#3 != 2> & <#5 != 3> & <#6 = 1> => <#0 = 3> & <#3 = 0>  0.8719723183391004, 5.80957903848639e-115\n",
      "<#3 != 2> & <#5 != 2> & <#5 != 3> & <#6 = 1> => <#0 = 3> & <#3 = 0> & <#5 = 0>  0.7922705314009661, 4.696807341968023e-118\n",
      "<#0 != 2> & <#2 = 0> & <#6 != 2> & <#6 != 4> => <#0 = 3> & <#1 = False>  0.6120906801007556, 1.4046342118460337e-34\n",
      "<#0 != 2> & <#2 = 0> & <#6 = 1> => <#0 = 3> & <#3 = 0> & <#1 = False>  0.6789297658862876, 4.4672859391169467e-45\n",
      "<#0 != 2> & <#2 != 1> & <#3 != 5> => <#0 = 3> & <#4 != 1> & <#6 != 3>  0.5598086124401914, 1.0208543131918171e-37\n",
      "<#0 != 2> & <#2 != 1> & <#4 = 0> & <#6 != 6> => <#0 = 3> & <#6 = 1>  0.7669902912621359, 1.3558560907085438e-24\n",
      "<#2 != 1> & <#4 != 1> & <#5 != 2> & <#6 = 1> => <#0 = 3> & <#3 != 1> & <#5 = 0>  0.7163120567375887, 1.7166439624203145e-49\n",
      "<#0 != 2> & <#4 != 1> & <#6 != 2> => <#0 = 3> & <#3 != 1>  0.7591463414634146, 5.206824302521335e-55\n",
      "<#0 != 2> & <#1 = True> & <#5 != 1> => <#0 = 3> & <#3 = 2>  0.6666666666666666, 6.902482351393806e-76\n",
      "<#1 = False> & <#5 != 3> & <#6 = 1> => <#0 = 3> & <#0 != 1> & <#3 = 0>  0.7433628318584071, 1.1550564006167556e-81\n",
      "<#1 = False> & <#5 != 2> & <#6 != 2> & <#6 != 3> => <#0 = 3> & <#0 != 2>  0.7023411371237458, 1.4617438123943564e-10\n",
      "<#1 = False> & <#2 != 1> & <#5 != 3> & <#6 != 3> & <#6 != 4> => <#0 = 3> & <#0 != 1>  0.7246376811594203, 2.6459493056087904e-16\n",
      "<#2 != 1> & <#3 = 0> & <#5 != 3> => <#0 = 3> & <#6 != 3> & <#6 != 2>  0.6676384839650146, 2.664120185865716e-28\n",
      "<#2 != 1> & <#4 != 1> & <#6 = 1> => <#0 = 3> & <#0 != 1> & <#5 != 3>  0.6484375, 6.809761215511424e-23\n",
      "<#3 = 0> & <#4 != 1> & <#4 != 2> & <#4 != 6> => <#0 = 3> & <#4 = 0>  0.5486111111111112, 3.4027273335924413e-44\n",
      "<#3 = 0> & <#5 != 1> & <#5 != 3> => <#0 = 3> & <#5 = 0> & <#6 != 3> & <#6 != 2>  0.5125, 1.4308195254561716e-46\n",
      "<#3 = 0> & <#6 != 2> => <#0 = 3> & <#0 != 1> & <#2 = 0>  0.5033259423503326, 4.597650226493e-11\n",
      "<#3 != 1> & <#4 != 1> & <#6 != 3> => <#0 = 3> & <#5 != 3>  0.5566502463054187, 7.787821827126585e-22\n",
      "<#4 = 0> & <#5 != 3> & <#6 != 4> => <#0 = 3> & <#3 != 1> & <#6 = 1>  0.5985401459854015, 5.600027591210252e-15\n",
      "<#4 != 1> & <#5 != 3> & <#6 != 2> => <#0 = 3> & <#3 != 1> & <#0 != 1>  0.6224188790560472, 5.996367275782931e-19\n",
      "<#4 != 1> & <#6 != 2> & <#6 != 3> => <#0 = 3> & <#3 != 1> & <#5 != 3>  0.5623268698060941, 6.1808358833114114e-24\n",
      "<#0 = 3> & <#2 != 1> & <#5 != 2> & <#6 = 1> => <#3 != 1>  0.9947643979057592, 2.7033641232463408e-15\n",
      "<#0 = 3> & <#5 != 1> & <#6 != 2> & <#6 != 3> & <#6 != 6> & <#6 != 4> => <#3 != 1> & <#3 = 0> & <#5 = 0>  0.5061728395061729, 1.1160957886054565e-66\n",
      "<#0 = 3> & <#6 != 2> & <#6 != 3> & <#6 != 6> & <#6 != 4> => <#3 != 1> & <#5 != 3>  0.924791086350975, 9.023776023204534e-46\n",
      "<#0 = 3> & <#6 != 2> & <#6 != 3> & <#6 != 4> => <#3 != 1> & <#5 != 3> & <#1 = False> & <#2 != 1>  0.6356382978723404, 7.554575812496066e-29\n",
      "<#4 != 1> & <#5 != 1> & <#5 != 2> & <#6 = 1> => <#3 != 1> & <#5 = 0>  0.8068965517241379, 7.652903401601953e-72\n",
      "<#0 != 1> & <#5 != 3> & <#6 != 2> => <#3 != 1> & <#6 = 1> & <#3 = 0> & <#1 = False> & <#2 != 1>  0.5765957446808511, 1.3409923341572061e-42\n",
      "<#0 != 2> & <#4 = 0> & <#6 != 2> & <#6 != 4> => <#3 != 1> & <#6 = 1>  0.8857142857142857, 1.4502788013962071e-16\n",
      "<#2 = 0> & <#4 != 1> & <#4 != 2> & <#6 = 1> => <#3 != 1> & <#3 = 0>  0.7910447761194029, 4.024542812084281e-10\n",
      "<#1 = False> => <#3 != 1> & <#3 != 2>  0.998272884283247, 1.3279601025525624e-244\n",
      "<#2 != 0> & <#3 != 2> & <#6 != 6> => <#2 = 1>  0.7633136094674556, 4.200832497448374e-82\n",
      "<#2 != 0> & <#2 != 2> => <#2 = 1> & <#6 != 6>  0.9941176470588236, 2.0706463276184128e-186\n",
      "<#1 = False> & <#2 != 1> & <#5 != 0> & <#5 != 2> => <#4 != 0>  0.9115646258503401, 4.686142131883002e-07\n",
      "<#0 != 3> & <#0 != 2> & <#3 != 2> => <#4 != 0> & <#4 = 1>  0.5642857142857143, 3.3939503217377235e-16\n",
      "<#0 != 3> & <#5 != 1> & <#5 != 2> => <#4 != 0> & <#3 != 2> & <#5 = 3>  0.7706422018348624, 1.873568603271219e-53\n",
      "<#0 != 2> & <#5 != 0> & <#6 != 1> => <#4 != 0> & <#5 = 1>  0.5046296296296297, 1.363454940273472e-28\n",
      "<#0 != 3> & <#3 = 0> => <#2 != 2>  0.995, 1.3298308882408745e-09\n",
      "<#0 = 1> => <#2 != 2> & <#5 != 2> & <#0 != 3> & <#0 != 2> & <#5 != 0> & <#6 != 7>  0.981042654028436, 2.5130749300871187e-200\n",
      "<#0 = 2> => <#2 != 2> & <#0 != 1> & <#0 != 3> & <#6 != 6> & <#5 != 0>  0.9722222222222222, 4.1813255517479866e-181\n",
      "<#2 = 0> => <#2 != 2> & <#2 != 1>  0.9984520123839009, 1.6533012066020049e-226\n",
      "<#2 = 1> => <#2 != 2> & <#6 != 6> & <#2 != 0>  0.9941176470588236, 2.0706463276184128e-186\n",
      "<#3 = 0> & <#5 = 2> => <#2 != 2> & <#6 != 3> & <#6 != 2> & <#2 != 1>  0.8943661971830986, 1.9706964742063608e-25\n",
      "<#3 != 2> & <#5 != 0> & <#6 = 1> => <#2 != 2> & <#2 = 0>  0.8385826771653543, 9.908150096548831e-08\n",
      "<#3 != 2> & <#5 = 2> => <#2 != 2> & <#1 = False> & <#6 != 2> & <#2 != 1>  0.7796610169491526, 3.839542698910282e-26\n",
      "<#1 = True> & <#3 != 2> => <#2 != 2> & <#4 != 3>  0.9734513274336283, 0.0004216142004481132\n",
      "<#1 = False> & <#6 != 6> => <#2 != 2> & <#5 != 3> & <#4 != 3>  0.7465437788018433, 0.00021599072995313016\n",
      "<#1 = False> & <#3 != 3> & <#5 != 1> & <#6 != 2> & <#6 != 3> & <#6 != 6> & <#6 != 4> => <#6 = 1>  0.9972375690607734, 4.334544432018888e-118\n",
      "<#0 = 3> & <#5 != 2> & <#5 != 3> & <#6 != 7> & <#6 != 6> & <#6 != 8> & <#6 != 11> => <#6 = 1> & <#5 = 0>  0.8776371308016878, 9.096518430594036e-169\n",
      "<#0 = 3> & <#3 != 2> & <#4 != 3> & <#6 != 3> & <#6 != 7> & <#6 != 6> & <#6 != 4> & <#6 != 8> => <#6 = 1> & <#3 = 0>  0.8355555555555556, 3.0094294435960445e-58\n",
      "<#3 != 2> & <#4 = 0> & <#5 != 3> & <#6 != 4> => <#6 = 1> & <#3 = 0> & <#1 = False>  0.7884615384615384, 3.7700051563391696e-18\n",
      "<#0 = 3> & <#1 = False> & <#4 != 3> & <#4 != 5> & <#6 != 3> & <#6 != 4> => <#6 = 1> & <#5 != 3>  0.8557692307692307, 4.0989436344394845e-40\n",
      "<#0 = 2> & <#5 != 3> & <#6 != 4> => <#6 = 1> & <#5 = 2>  0.8, 5.190730693325809e-46\n",
      "<#0 != 1> & <#2 != 1> & <#5 != 3> => <#6 = 1> & <#6 != 2>  0.8008948545861297, 3.27973235486483e-38\n",
      "<#0 != 1> & <#3 != 1> & <#3 != 2> => <#6 = 1> & <#1 = False>  0.737417943107221, 3.5421056356583107e-68\n",
      "<#0 != 1> & <#3 != 1> & <#4 != 3> => <#6 = 1> & <#3 = 0> & <#5 != 3> & <#1 = False>  0.5560975609756098, 1.8596889660236874e-47\n",
      "<#0 != 1> & <#3 != 2> & <#5 != 3> => <#6 = 1> & <#3 = 0> & <#1 = False> & <#6 != 2>  0.7543424317617866, 6.231684594231286e-72\n",
      "<#0 != 2> & <#3 != 2> & <#6 != 6> => <#6 = 1> & <#3 = 0> & <#4 != 3>  0.5745721271393643, 1.0139241443002358e-26\n",
      "<#1 = False> & <#5 != 1> & <#5 != 3> & <#6 != 3> => <#6 = 1> & <#4 != 3>  0.9308943089430894, 7.821846321688239e-55\n",
      "<#2 = 0> & <#5 = 2> & <#6 != 3> => <#6 = 1> & <#3 = 0> & <#3 != 3>  0.7, 1.6570872605339553e-15\n",
      "<#2 != 1> & <#3 = 0> & <#4 != 1> & <#5 != 3> & <#6 != 6> => <#6 = 1> & <#0 != 1>  0.8382352941176471, 7.78848490485123e-43\n",
      "<#2 != 1> & <#3 != 1> & <#5 != 3> => <#6 = 1> & <#0 != 1> & <#6 != 3> & <#6 != 2>  0.7134020618556701, 4.180272705824353e-57\n",
      "<#3 != 1> & <#3 != 2> & <#5 != 1> => <#6 = 1> & <#6 != 4> & <#3 = 0> & <#6 != 3>  0.7709251101321586, 2.3448345124576684e-105\n",
      "<#3 != 1> & <#3 != 2> & <#5 != 3> => <#6 = 1> & <#0 != 1> & <#3 = 0>  0.6862302483069977, 6.488458382660214e-101\n",
      "<#3 != 1> & <#4 != 3> & <#5 != 1> => <#6 = 1> & <#6 != 4> & <#3 = 0> & <#6 != 3> & <#1 = False>  0.6282973621103117, 1.3448538474514177e-53\n",
      "<#3 != 1> & <#4 != 5> & <#5 != 1> => <#6 = 1> & <#3 = 0> & <#6 != 3>  0.6027713625866051, 2.3088555972664013e-46\n",
      "<#3 != 2> & <#5 != 1> & <#5 != 3> => <#6 = 1> & <#3 = 0> & <#1 = False> & <#6 != 2> & <#4 != 3>  0.7992831541218638, 8.552038048534862e-71\n",
      "<#3 != 2> & <#5 != 1> & <#6 != 3> => <#6 = 1> & <#3 = 0> & <#1 = False> & <#4 != 3>  0.6986666666666667, 5.609489734902318e-72\n",
      "<#4 != 3> & <#5 != 1> & <#6 != 5> => <#6 = 1> & <#3 != 2> & <#3 = 0> & <#1 = False>  0.5435684647302904, 1.4824804043165757e-31\n",
      "<#4 != 3> & <#5 != 1> & <#6 != 3> => <#6 = 1> & <#3 = 0> & <#3 != 3> & <#1 = False>  0.5968109339407744, 2.138660354465007e-45\n",
      "<#5 != 3> & <#6 != 6> & <#6 != 8> => <#6 = 1> & <#3 != 3>  0.6953846153846154, 1.8539853255247547e-24\n",
      "<#2 = 0> & <#3 != 2> & <#3 != 3> & <#4 != 0> & <#4 != 1> & <#4 != 4> & <#4 != 6> => <#4 = 2>  0.9928057553956835, 2.694411516034091e-100\n",
      "<#0 = 3> => <#3 != 5> & <#0 != 1> & <#3 != 4> & <#0 != 2> & <#4 != 6>  0.9831932773109243, 3.9943427575830645e-203\n",
      "<#4 != 1> => <#3 != 5> & <#3 != 4>  0.9884615384615385, 3.144772213979001e-06\n",
      "<#5 != 2> & <#5 != 3> & <#6 != 3> => <#3 != 5> & <#0 != 2> & <#5 = 0>  0.5390243902439025, 2.827796307356966e-82\n",
      "<#0 != 2> & <#2 = 1> & <#6 != 2> => <#5 != 2>  0.9537037037037037, 9.009229301664561e-10\n",
      "<#0 != 3> & <#0 != 2> => <#5 != 2> & <#0 = 1>  0.9953051643192489, 2.93744506549242e-209\n",
      "<#0 != 2> & <#2 != 0> & <#6 = 1> => <#5 != 2> & <#5 = 0>  0.6074074074074074, 6.187244202164938e-21\n",
      "<#4 != 3> & <#6 = 2> => <#5 != 2> & <#0 != 3>  0.7007299270072993, 2.871484786704113e-17\n",
      "<#5 != 1> => <#6 != 11> & <#2 = 0> & <#6 != 7> & <#6 != 8>  0.739329268292683, 9.064294930167425e-08\n",
      "<#3 != 2> & <#4 = 0> & <#5 != 1> => <#0 != 1>  0.9904761904761905, 2.4849924312093464e-15\n",
      "<#2 = 0> & <#5 != 3> & <#6 != 2> & <#6 != 4> => <#0 != 1> & <#1 = False>  0.6945812807881774, 5.267876428217551e-25\n",
      "<#1 = False> & <#3 != 4> & <#6 = 1> => <#0 != 1> & <#3 = 0>  0.805352798053528, 2.727109091253211e-87\n",
      "<#3 != 0> & <#5 = 3> => <#0 != 1> & <#6 != 1>  0.8448275862068966, 7.594661323141069e-43\n",
      "<#3 != 1> & <#3 != 4> & <#5 != 3> => <#0 != 1> & <#3 = 0> & <#6 != 2>  0.5595238095238095, 2.103602114061366e-39\n",
      "<#3 != 4> & <#3 != 5> & <#5 != 1> => <#0 != 1> & <#4 != 1>  0.750996015936255, 6.1550472665106945e-40\n",
      "<#4 = 0> & <#5 != 1> => <#0 != 1> & <#2 != 1> & <#2 = 0>  0.8538461538461538, 2.015984812670209e-10\n",
      "<#5 != 1> & <#5 != 3> => <#0 != 1> & <#4 != 1> & <#6 != 5> & <#6 != 4> & <#6 != 6> & <#6 != 3> & <#6 != 2>  0.6811594202898551, 2.0806311065635033e-66\n",
      "<#1 = False> & <#6 != 2> => <#0 != 1> & <#2 = 0>  0.6554455445544555, 1.9477076538055108e-07\n",
      "<#0 = 3> & <#3 != 0> & <#5 != 1> => <#4 != 1>  0.9056603773584906, 7.081897754849913e-07\n",
      "<#0 != 2> & <#3 != 4> & <#3 != 5> & <#6 = 1> => <#4 != 1> & <#3 = 0>  0.5888157894736842, 1.973361038690003e-18\n",
      "<#3 != 0> & <#3 != 1> & <#3 != 4> => <#4 != 1> & <#3 = 2>  0.6403940886699507, 5.32130046934489e-90\n",
      "<#3 != 1> & <#5 != 1> => <#4 != 1> & <#6 != 4>  0.7695749440715883, 4.4590533931897065e-08\n",
      "<#3 != 2> & <#5 != 3> => <#6 != 5>  0.9942196531791907, 0.0003278269840026047\n",
      "<#5 != 3> => <#6 != 5> & <#6 != 4> & <#6 != 6> & <#6 != 3> & <#6 != 2>  0.7166416791604198, 2.2947766647838275e-23\n",
      "<#0 = 3> & <#2 != 0> & <#3 != 1> => <#2 = 2>  0.546875, 3.8024247982330884e-58\n",
      "<#0 != 1> => <#3 != 4>  0.9985228951255539, 0.0033337984812704816\n",
      "<#5 != 0> & <#5 != 1> & <#5 != 3> => <#5 = 2>  0.9954337899543378, 3.383329523625353e-212\n",
      "<#1 = False> & <#5 != 0> & <#5 != 1> & <#6 != 6> => <#5 = 2> & <#2 = 0>  0.5261194029850746, 1.5775563796082858e-45\n",
      "<#0 = 3> & <#5 != 0> & <#6 = 1> => <#5 = 2> & <#3 != 2> & <#2 != 1> & <#2 = 0>  0.7043478260869566, 1.5083866577157656e-41\n",
      "<#0 != 3> & <#2 != 1> & <#5 != 3> & <#6 = 1> => <#5 = 2> & <#0 = 2>  0.7207207207207207, 2.991285011555245e-75\n",
      "<#3 = 0> & <#5 != 0> & <#5 != 3> & <#6 = 1> => <#5 = 2> & <#2 != 1> & <#2 = 0>  0.7544910179640718, 2.715182562377315e-66\n",
      "<#2 = 0> & <#5 != 1> & <#5 != 3> => <#5 = 2> & <#6 != 2>  0.5405405405405406, 1.5174155187573355e-74\n",
      "<#5 != 0> & <#5 != 1> & <#6 = 1> => <#5 = 2> & <#3 != 2> & <#2 = 0>  0.5674603174603174, 1.650069070540582e-72\n",
      "<#0 != 3> & <#0 != 1> => <#0 = 2>  0.9946236559139785, 2.549456781600177e-196\n",
      "<#2 != 0> & <#4 != 0> & <#4 != 3> => <#6 != 4>  0.9915254237288136, 0.0074447246046312025\n",
      "<#0 = 3> & <#5 != 3> => <#6 != 4> & <#6 != 3> & <#6 != 2>  0.8762626262626263, 1.9200872885196508e-35\n",
      "<#0 != 2> & <#3 != 2> & <#3 != 3> => <#6 != 4> & <#3 = 0>  0.8045540796963947, 1.2701396829658007e-65\n",
      "<#1 = False> & <#5 != 1> => <#6 != 4> & <#6 != 3>  0.9116997792494481, 4.426678843272395e-08\n",
      "<#4 != 3> & <#5 != 3> => <#6 != 4> & <#6 != 6>  0.9632495164410058, 4.1492650360073845e-08\n",
      "<#1 = False> & <#4 != 3> => <#6 != 4> & <#0 != 2> & <#6 != 7>  0.7754629629629629, 3.7807502081601635e-05\n",
      "<#0 != 2> & <#5 = 1> & <#6 != 5> & <#6 != 7> & <#6 != 6> & <#6 != 8> & <#6 != 11> => <#0 = 1>  0.9506172839506173, 2.0965410907082753e-111\n",
      "<#0 != 2> & <#5 != 2> & <#6 = 2> => <#0 = 1> & <#5 = 1>  0.6542056074766355, 6.715946221566146e-32\n",
      "<#0 != 3> & <#3 != 3> & <#6 != 4> => <#0 = 1> & <#4 != 3>  0.5377643504531722, 4.752619400484356e-67\n",
      "<#0 != 3> & <#5 = 1> & <#6 != 3> & <#6 != 4> => <#0 = 1> & <#6 = 2>  0.5147058823529411, 2.2604200448665093e-63\n",
      "<#1 = True> & <#5 = 1> & <#6 != 7> & <#6 != 11> => <#0 = 1> & <#0 != 3>  0.8446601941747572, 1.769326510052952e-44\n",
      "<#3 != 3> & <#5 != 3> & <#6 = 2> => <#0 = 1> & <#0 != 3> & <#5 = 1>  0.6666666666666666, 6.336671927183514e-33\n",
      "<#2 = 1> & <#5 != 2> & <#6 != 4> => <#0 = 1> & <#0 != 2>  0.6056338028169014, 5.261557193139844e-25\n",
      "<#5 = 1> & <#6 != 5> & <#6 != 7> & <#6 != 6> & <#6 != 8> & <#6 != 11> => <#0 != 3>  0.9565217391304348, 1.0961987995301362e-63\n",
      "<#2 = 1> & <#5 != 2> & <#6 != 3> => <#0 != 3> & <#3 != 3>  0.6904761904761905, 1.1686766008084718e-10\n",
      "<#4 != 5> & <#5 = 3> & <#6 != 5> & <#6 != 4> => <#0 != 3> & <#3 != 2>  0.6041666666666666, 5.693841939253594e-09\n",
      "<#3 != 0> & <#4 != 5> & <#6 != 6> => <#0 != 3> & <#1 = True>  0.5444839857651246, 6.31272290165023e-68\n",
      "<#2 != 1> & <#4 = 1> & <#5 != 2> => <#3 != 2>  0.9545454545454546, 5.812131400937934e-08\n",
      "<#2 != 2> & <#4 != 4> & <#5 = 0> => <#3 != 2> & <#3 = 0> & <#1 = False>  0.8709677419354839, 1.2245240062892403e-16\n",
      "<#0 != 2> & <#5 != 0> & <#5 != 1> & <#6 = 1> => <#3 != 2> & <#1 = False>  0.8471337579617835, 2.3426496036917773e-10\n",
      "<#0 = 3> & <#2 != 2> & <#5 != 3> & <#6 != 2> & <#6 != 7> & <#6 != 11> => <#3 != 2> & <#3 = 0>  0.8178694158075601, 3.314736201807177e-26\n",
      "<#2 = 0> & <#5 != 1> & <#6 != 5> & <#6 != 3> => <#3 != 2> & <#3 != 3> & <#4 != 3>  0.8373983739837398, 2.569893123764083e-10\n",
      "<#2 != 2> & <#5 = 2> & <#6 != 2> => <#3 != 2> & <#1 = False> & <#2 = 0>  0.7301587301587301, 1.8679922339670244e-14\n",
      "<#2 != 0> & <#5 != 2> & <#5 != 3> & <#6 = 1> => <#0 != 2>  0.9908256880733946, 4.1981643291434285e-12\n",
      "<#5 != 2> & <#5 != 3> & <#6 != 4> => <#0 != 2> & <#5 = 0>  0.5206422018348624, 2.3350454151137327e-87\n",
      "<#5 != 3> & <#6 != 1> & <#6 != 4> => <#0 != 2> & <#6 = 2>  0.515, 4.815404829324101e-53\n",
      "<#1 = False> & <#6 != 3> => <#0 != 2> & <#4 != 4>  0.7438423645320197, 5.847721617883769e-06\n",
      "<#0 != 3> & <#4 != 0> => <#6 != 6>  0.9933110367892977, 0.00010041175432064608\n",
      "<#3 = 0> & <#5 != 1> => <#6 != 6> & <#2 = 0>  0.7745803357314148, 1.9446579694967193e-06\n",
      "<#1 = False> & <#3 != 3> & <#5 != 1> => <#6 != 6> & <#3 = 0> & <#6 != 3>  0.916083916083916, 1.032063530326515e-126\n",
      "<#3 != 0> => <#4 != 6>  0.9842271293375394, 0.009301980990265279\n",
      "<#0 != 1> & <#1 = True> & <#5 != 0> & <#5 != 2> => <#6 != 1>  0.9444444444444444, 1.3631984191546808e-37\n",
      "<#2 != 2> & <#3 != 0> & <#4 != 0> => <#6 != 1> & <#5 != 0>  0.6844262295081968, 1.037449254267376e-25\n",
      "<#3 != 0> & <#5 != 2> => <#6 != 1> & <#4 != 2>  0.6040816326530613, 8.033985788384327e-25\n",
      "<#1 = True> & <#3 != 1> & <#3 != 4> & <#3 != 5> => <#3 = 2>  0.9946236559139785, 3.2129646285840187e-196\n",
      "<#3 != 0> & <#3 != 5> & <#6 = 1> => <#3 = 2> & <#1 = True>  0.8046875, 7.880943792895949e-59\n",
      "<#1 = False> & <#3 != 3> & <#3 != 4> & <#3 != 5> => <#3 = 0>  0.9980732177263969, 5.395356100144559e-262\n",
      "<#2 != 1> & <#3 != 2> & <#5 = 0> => <#3 = 0> & <#1 = False>  0.9933333333333333, 6.800820643519044e-41\n",
      "<#0 = 3> & <#3 != 2> & <#3 != 3> & <#6 != 2> & <#6 != 4> => <#3 = 0> & <#5 != 3>  0.8539682539682539, 3.9081509387278563e-72\n",
      "<#0 = 3> & <#1 = False> & <#4 != 3> & <#5 != 1> & <#6 != 6> => <#3 = 0> & <#5 = 0>  0.5701357466063348, 9.527526504258586e-77\n",
      "<#0 != 1> & <#0 != 2> & <#6 = 1> => <#3 = 0> & <#5 != 3> & <#5 = 0> & <#1 = False>  0.5093167701863354, 2.864312896312842e-67\n",
      "<#2 != 2> & <#5 != 1> & <#6 != 2> => <#3 = 0> & <#1 = False> & <#2 = 0>  0.591182364729459, 2.0221163846900212e-26\n",
      "<#0 != 2> & <#4 != 3> & <#6 != 3> => <#3 = 0> & <#5 != 3> & <#1 = False>  0.5456570155902004, 2.184715719206957e-11\n",
      "<#3 != 2> & <#5 = 2> & <#6 != 2> => <#3 = 0> & <#2 = 0>  0.803680981595092, 3.424726459106118e-26\n",
      "<#2 != 1> & <#4 != 3> & <#5 = 2> => <#3 = 0> & <#1 = False> & <#6 != 2>  0.6686390532544378, 2.009064584767346e-09\n",
      "<#4 = 0> & <#5 != 3> => <#3 = 0> & <#6 != 3>  0.676056338028169, 4.492065969587338e-06\n",
      "<#3 != 2> & <#3 != 3> & <#5 = 2> => <#3 = 0> & <#6 != 2> & <#2 != 1>  0.7674418604651163, 5.946965164415906e-25\n",
      "<#3 != 2> & <#5 != 2> & <#6 = 1> => <#3 = 0> & <#1 = False> & <#4 != 4>  0.8900523560209425, 5.3093925332104465e-39\n",
      "<#1 = False> & <#6 != 3> & <#6 != 7> & <#6 != 6> & <#6 != 8> => <#3 = 0> & <#4 != 3>  0.9348958333333334, 4.6277322925841294e-122\n",
      "<#3 != 2> & <#5 != 3> & <#6 != 4> => <#3 = 0> & <#1 = False> & <#4 != 3>  0.7769607843137255, 2.1395762951828226e-45\n",
      "<#4 != 3> & <#5 != 1> & <#5 != 3> => <#3 = 0> & <#3 != 3> & <#1 = False>  0.7270029673590505, 5.833372064671004e-19\n",
      "<#4 != 5> & <#5 != 3> & <#6 != 4> => <#3 = 0> & <#3 != 3>  0.6203522504892368, 1.42685006486703e-08\n",
      "<#5 = 2> & <#6 != 2> & <#6 != 3> => <#3 = 0> & <#3 != 3> & <#4 != 3>  0.7070063694267515, 6.80449151118797e-06\n",
      "<#1 = False> & <#2 = 0> & <#5 = 2> => <#3 = 0> & <#6 != 2>  0.9225352112676056, 1.5196258847249065e-32\n",
      "<#0 = 1> & <#4 != 3> & <#6 != 4> => <#3 != 3>  0.994413407821229, 2.5519010025208807e-05\n",
      "<#4 != 3> & <#4 != 5> => <#3 != 3> & <#6 != 7>  0.9922600619195047, 2.413108030264084e-43\n",
      "<#0 = 3> & <#4 != 5> & <#6 = 1> => <#5 != 3>  0.972972972972973, 5.18230106294894e-25\n",
      "<#0 = 3> & <#4 != 3> & <#4 != 5> & <#6 != 5> & <#6 != 4> => <#5 != 3> & <#5 = 0>  0.5167785234899329, 6.575312908735657e-70\n",
      "<#0 = 3> & <#3 != 1> & <#4 != 5> & <#6 != 2> & <#6 != 4> => <#5 != 3> & <#1 = False>  0.7443609022556391, 2.998000853843023e-25\n",
      "<#0 = 3> & <#2 != 2> & <#6 != 3> & <#6 != 4> => <#5 != 3> & <#1 = False> & <#2 = 0>  0.6065573770491803, 1.4365341267020355e-29\n",
      "<#0 = 3> & <#6 != 2> & <#6 != 4> => <#5 != 3> & <#1 = False> & <#2 != 1>  0.5839243498817966, 3.934853410415983e-21\n",
      "<#0 = 1> & <#6 != 1> => <#5 != 3> & <#5 = 1>  0.9724770642201835, 8.341316559371634e-70\n",
      "<#0 != 3> & <#0 != 2> & <#6 != 1> => <#5 != 3> & <#5 = 1> & <#6 = 2>  0.6422018348623854, 7.691774937831438e-72\n",
      "<#3 = 0> & <#4 != 1> & <#4 != 2> & <#4 != 4> & <#4 != 6> => <#4 = 0>  0.9818181818181818, 2.1797460194054593e-84\n",
      "<#0 = 3> & <#5 != 2> & <#5 != 3> & <#6 != 5> & <#6 != 7> & <#6 != 6> & <#6 != 8> & <#6 != 11> => <#5 = 0>  0.9656652360515021, 2.633718252901512e-198\n",
      "<#0 = 3> & <#3 = 0> & <#5 != 3> => <#5 = 0> & <#6 != 2>  0.599290780141844, 2.2473843176722732e-60\n",
      "<#0 != 2> & <#4 = 0> & <#5 != 3> => <#5 = 0> & <#6 != 3>  0.5344827586206896, 1.8531165626279423e-17\n",
      "<#3 = 0> & <#5 != 2> & <#6 = 1> => <#5 = 0> & <#4 != 4>  0.6123595505617978, 6.563993416543033e-54\n",
      "<#3 != 1> & <#4 = 0> & <#5 != 1> & <#5 != 3> => <#6 != 3>  0.9907407407407407, 8.217941217354136e-08\n",
      "<#0 = 3> & <#5 != 2> & <#5 != 3> => <#6 != 3> & <#6 != 2>  0.9328358208955224, 5.105001660343834e-28\n",
      "<#3 != 1> & <#4 != 4> & <#5 != 1> => <#6 != 3> & <#1 = False>  0.7518796992481203, 9.826352884302027e-32\n",
      "<#3 != 0> & <#3 != 4> & <#6 = 1> => <#1 = True>  0.9064748201438849, 9.163554243546016e-51\n",
      "<#0 = 3> & <#3 != 2> & <#4 != 1> & <#6 != 2> & <#6 != 3> & <#6 != 4> => <#1 = False>  0.9775280898876404, 1.9785549673284262e-36\n",
      "<#0 = 3> & <#2 != 2> & <#6 != 2> & <#6 != 3> & <#6 != 4> => <#1 = False> & <#2 = 0>  0.7040498442367601, 3.7569614550987194e-21\n",
      "<#2 = 0> & <#5 = 2> => <#1 = False> & <#6 != 2>  0.71875, 1.64497785544423e-07\n",
      "<#2 != 1> & <#5 = 2> => <#1 = False> & <#6 != 2> & <#2 = 0>  0.696969696969697, 7.847007892687064e-18\n",
      "<#3 != 2> & <#6 != 4> => <#1 = False> & <#4 != 3>  0.7741347905282332, 1.4668943351396666e-71\n",
      "<#2 = 0> & <#3 = 0> & <#5 = 2> => <#6 != 2>  0.9776119402985075, 1.1456683722927352e-10\n",
      "<#2 != 1> & <#3 = 0> & <#5 = 2> => <#6 != 2> & <#2 = 0>  0.9703703703703703, 8.657896359404675e-28\n",
      "<#1 = False> & <#3 != 3> & <#5 = 2> => <#6 != 2> & <#2 != 1> & <#2 = 0>  0.918918918918919, 2.5095975204337963e-21\n",
      "<#1 = False> & <#5 = 2> => <#6 != 2> & <#2 != 1>  0.9150326797385621, 3.4145096265119866e-14\n",
      "<#2 = 0> & <#3 != 2> & <#4 != 0> & <#4 != 2> & <#4 != 3> & <#4 != 4> & <#4 != 6> => <#4 = 1>  0.9266666666666666, 2.895887840607406e-87\n",
      "<#0 = 1> & <#3 != 3> & <#6 != 4> => <#4 != 3>  0.994413407821229, 2.225871831301405e-06\n",
      "<#1 = True> & <#3 != 2> & <#6 != 1> => <#5 != 0>  0.9907407407407407, 1.5187491989477724e-15\n",
      "<#0 = 1> & <#5 != 0> & <#5 != 3> => <#5 = 1>  0.9937888198757764, 3.4288997393112914e-123\n",
      "<#0 = 3> & <#5 != 0> & <#5 != 2> & <#6 != 7> & <#6 != 8> & <#6 != 11> => <#5 = 3>  0.8392857142857143, 4.0419417344012204e-48\n",
      "<#0 != 1> & <#5 != 0> & <#5 != 3> & <#6 = 1> => <#2 != 1>  0.953125, 2.9074353401076316e-11\n",
      "<#0 = 3> & <#5 != 0> & <#5 != 3> & <#6 != 2> => <#2 != 1> & <#2 = 0>  0.9463087248322147, 8.444967611230213e-15\n",
      "<#6 != 1> & <#6 != 3> & <#6 != 4> => <#6 = 2>  0.72, 4.5985402626501765e-126\n",
      "<#0 = 1> & <#1 = False> => <#4 != 4>  0.970873786407767, 0.0012199347295395388\n",
      "<#2 != 1> & <#2 != 2> => <#2 = 0>  0.9984520123839009, 1.6533012066020049e-226\n",
      "<#2 != 0> => <#6 != 7>  0.9959514170040485, 0.02029624914900014\n",
      "<#4 != 5> => <#6 != 7> & <#6 != 8>  0.9811866859623734, 1.3785009405580477e-05\n",
      "<#0 != 2> & <#3 != 1> & <#6 != 1> => <#4 != 2>  0.8705882352941177, 1.644184044460711e-07\n",
      "<#3 != 3> & <#4 != 4> => <#6 != 8>  0.9967159277504105, 0.0003538414950984585\n"
     ]
    }
   ],
   "source": [
    "for rule in MSR_rules: print(rule)"
   ]
  },
  {
   "cell_type": "code",
   "execution_count": 105,
   "id": "loose-hindu",
   "metadata": {
    "ExecuteTime": {
     "end_time": "2021-04-21T06:22:26.002036Z",
     "start_time": "2021-04-21T06:22:25.169431Z"
    }
   },
   "outputs": [
    {
     "data": {
      "text/html": [
       "<div>\n",
       "<style scoped>\n",
       "    .dataframe tbody tr th:only-of-type {\n",
       "        vertical-align: middle;\n",
       "    }\n",
       "\n",
       "    .dataframe tbody tr th {\n",
       "        vertical-align: top;\n",
       "    }\n",
       "\n",
       "    .dataframe thead th {\n",
       "        text-align: right;\n",
       "    }\n",
       "</style>\n",
       "<table border=\"1\" class=\"dataframe\">\n",
       "  <thead>\n",
       "    <tr style=\"text-align: right;\">\n",
       "      <th></th>\n",
       "      <th>0</th>\n",
       "      <th>1</th>\n",
       "      <th>2</th>\n",
       "      <th>3</th>\n",
       "      <th>4</th>\n",
       "      <th>5</th>\n",
       "      <th>6</th>\n",
       "      <th>7</th>\n",
       "      <th>8</th>\n",
       "      <th>9</th>\n",
       "      <th>...</th>\n",
       "      <th>240</th>\n",
       "      <th>241</th>\n",
       "      <th>242</th>\n",
       "      <th>243</th>\n",
       "      <th>244</th>\n",
       "      <th>245</th>\n",
       "      <th>246</th>\n",
       "      <th>247</th>\n",
       "      <th>248</th>\n",
       "      <th>249</th>\n",
       "    </tr>\n",
       "  </thead>\n",
       "  <tbody>\n",
       "    <tr>\n",
       "      <th>0</th>\n",
       "      <td>True</td>\n",
       "      <td>False</td>\n",
       "      <td>False</td>\n",
       "      <td>False</td>\n",
       "      <td>True</td>\n",
       "      <td>True</td>\n",
       "      <td>False</td>\n",
       "      <td>False</td>\n",
       "      <td>False</td>\n",
       "      <td>False</td>\n",
       "      <td>...</td>\n",
       "      <td>False</td>\n",
       "      <td>False</td>\n",
       "      <td>False</td>\n",
       "      <td>True</td>\n",
       "      <td>False</td>\n",
       "      <td>True</td>\n",
       "      <td>False</td>\n",
       "      <td>True</td>\n",
       "      <td>True</td>\n",
       "      <td>True</td>\n",
       "    </tr>\n",
       "    <tr>\n",
       "      <th>1</th>\n",
       "      <td>False</td>\n",
       "      <td>False</td>\n",
       "      <td>False</td>\n",
       "      <td>False</td>\n",
       "      <td>False</td>\n",
       "      <td>False</td>\n",
       "      <td>False</td>\n",
       "      <td>False</td>\n",
       "      <td>False</td>\n",
       "      <td>False</td>\n",
       "      <td>...</td>\n",
       "      <td>False</td>\n",
       "      <td>False</td>\n",
       "      <td>False</td>\n",
       "      <td>True</td>\n",
       "      <td>False</td>\n",
       "      <td>False</td>\n",
       "      <td>True</td>\n",
       "      <td>True</td>\n",
       "      <td>False</td>\n",
       "      <td>True</td>\n",
       "    </tr>\n",
       "    <tr>\n",
       "      <th>2</th>\n",
       "      <td>False</td>\n",
       "      <td>False</td>\n",
       "      <td>False</td>\n",
       "      <td>False</td>\n",
       "      <td>False</td>\n",
       "      <td>False</td>\n",
       "      <td>False</td>\n",
       "      <td>False</td>\n",
       "      <td>False</td>\n",
       "      <td>False</td>\n",
       "      <td>...</td>\n",
       "      <td>False</td>\n",
       "      <td>False</td>\n",
       "      <td>False</td>\n",
       "      <td>False</td>\n",
       "      <td>False</td>\n",
       "      <td>True</td>\n",
       "      <td>False</td>\n",
       "      <td>True</td>\n",
       "      <td>False</td>\n",
       "      <td>True</td>\n",
       "    </tr>\n",
       "    <tr>\n",
       "      <th>3</th>\n",
       "      <td>False</td>\n",
       "      <td>False</td>\n",
       "      <td>False</td>\n",
       "      <td>False</td>\n",
       "      <td>False</td>\n",
       "      <td>False</td>\n",
       "      <td>False</td>\n",
       "      <td>False</td>\n",
       "      <td>False</td>\n",
       "      <td>False</td>\n",
       "      <td>...</td>\n",
       "      <td>False</td>\n",
       "      <td>False</td>\n",
       "      <td>False</td>\n",
       "      <td>True</td>\n",
       "      <td>False</td>\n",
       "      <td>True</td>\n",
       "      <td>False</td>\n",
       "      <td>True</td>\n",
       "      <td>False</td>\n",
       "      <td>True</td>\n",
       "    </tr>\n",
       "    <tr>\n",
       "      <th>4</th>\n",
       "      <td>False</td>\n",
       "      <td>True</td>\n",
       "      <td>False</td>\n",
       "      <td>False</td>\n",
       "      <td>False</td>\n",
       "      <td>True</td>\n",
       "      <td>False</td>\n",
       "      <td>True</td>\n",
       "      <td>True</td>\n",
       "      <td>False</td>\n",
       "      <td>...</td>\n",
       "      <td>False</td>\n",
       "      <td>True</td>\n",
       "      <td>True</td>\n",
       "      <td>False</td>\n",
       "      <td>False</td>\n",
       "      <td>True</td>\n",
       "      <td>False</td>\n",
       "      <td>True</td>\n",
       "      <td>False</td>\n",
       "      <td>True</td>\n",
       "    </tr>\n",
       "    <tr>\n",
       "      <th>...</th>\n",
       "      <td>...</td>\n",
       "      <td>...</td>\n",
       "      <td>...</td>\n",
       "      <td>...</td>\n",
       "      <td>...</td>\n",
       "      <td>...</td>\n",
       "      <td>...</td>\n",
       "      <td>...</td>\n",
       "      <td>...</td>\n",
       "      <td>...</td>\n",
       "      <td>...</td>\n",
       "      <td>...</td>\n",
       "      <td>...</td>\n",
       "      <td>...</td>\n",
       "      <td>...</td>\n",
       "      <td>...</td>\n",
       "      <td>...</td>\n",
       "      <td>...</td>\n",
       "      <td>...</td>\n",
       "      <td>...</td>\n",
       "      <td>...</td>\n",
       "    </tr>\n",
       "    <tr>\n",
       "      <th>886</th>\n",
       "      <td>False</td>\n",
       "      <td>True</td>\n",
       "      <td>False</td>\n",
       "      <td>True</td>\n",
       "      <td>False</td>\n",
       "      <td>False</td>\n",
       "      <td>False</td>\n",
       "      <td>False</td>\n",
       "      <td>False</td>\n",
       "      <td>True</td>\n",
       "      <td>...</td>\n",
       "      <td>False</td>\n",
       "      <td>True</td>\n",
       "      <td>False</td>\n",
       "      <td>False</td>\n",
       "      <td>False</td>\n",
       "      <td>True</td>\n",
       "      <td>False</td>\n",
       "      <td>True</td>\n",
       "      <td>False</td>\n",
       "      <td>True</td>\n",
       "    </tr>\n",
       "    <tr>\n",
       "      <th>887</th>\n",
       "      <td>False</td>\n",
       "      <td>False</td>\n",
       "      <td>False</td>\n",
       "      <td>False</td>\n",
       "      <td>False</td>\n",
       "      <td>False</td>\n",
       "      <td>False</td>\n",
       "      <td>False</td>\n",
       "      <td>False</td>\n",
       "      <td>False</td>\n",
       "      <td>...</td>\n",
       "      <td>False</td>\n",
       "      <td>False</td>\n",
       "      <td>False</td>\n",
       "      <td>False</td>\n",
       "      <td>False</td>\n",
       "      <td>True</td>\n",
       "      <td>False</td>\n",
       "      <td>True</td>\n",
       "      <td>False</td>\n",
       "      <td>True</td>\n",
       "    </tr>\n",
       "    <tr>\n",
       "      <th>888</th>\n",
       "      <td>None</td>\n",
       "      <td>False</td>\n",
       "      <td>None</td>\n",
       "      <td>False</td>\n",
       "      <td>False</td>\n",
       "      <td>False</td>\n",
       "      <td>False</td>\n",
       "      <td>False</td>\n",
       "      <td>False</td>\n",
       "      <td>False</td>\n",
       "      <td>...</td>\n",
       "      <td>True</td>\n",
       "      <td>False</td>\n",
       "      <td>False</td>\n",
       "      <td>False</td>\n",
       "      <td>False</td>\n",
       "      <td>True</td>\n",
       "      <td>False</td>\n",
       "      <td>None</td>\n",
       "      <td>None</td>\n",
       "      <td>None</td>\n",
       "    </tr>\n",
       "    <tr>\n",
       "      <th>889</th>\n",
       "      <td>False</td>\n",
       "      <td>True</td>\n",
       "      <td>False</td>\n",
       "      <td>False</td>\n",
       "      <td>False</td>\n",
       "      <td>False</td>\n",
       "      <td>False</td>\n",
       "      <td>False</td>\n",
       "      <td>True</td>\n",
       "      <td>False</td>\n",
       "      <td>...</td>\n",
       "      <td>False</td>\n",
       "      <td>False</td>\n",
       "      <td>False</td>\n",
       "      <td>False</td>\n",
       "      <td>True</td>\n",
       "      <td>False</td>\n",
       "      <td>True</td>\n",
       "      <td>True</td>\n",
       "      <td>False</td>\n",
       "      <td>True</td>\n",
       "    </tr>\n",
       "    <tr>\n",
       "      <th>890</th>\n",
       "      <td>False</td>\n",
       "      <td>True</td>\n",
       "      <td>False</td>\n",
       "      <td>False</td>\n",
       "      <td>True</td>\n",
       "      <td>True</td>\n",
       "      <td>True</td>\n",
       "      <td>True</td>\n",
       "      <td>True</td>\n",
       "      <td>False</td>\n",
       "      <td>...</td>\n",
       "      <td>False</td>\n",
       "      <td>False</td>\n",
       "      <td>False</td>\n",
       "      <td>False</td>\n",
       "      <td>False</td>\n",
       "      <td>False</td>\n",
       "      <td>True</td>\n",
       "      <td>True</td>\n",
       "      <td>False</td>\n",
       "      <td>True</td>\n",
       "    </tr>\n",
       "  </tbody>\n",
       "</table>\n",
       "<p>891 rows × 250 columns</p>\n",
       "</div>"
      ],
      "text/plain": [
       "       0      1      2      3      4      5      6      7      8      9    \\\n",
       "0     True  False  False  False   True   True  False  False  False  False   \n",
       "1    False  False  False  False  False  False  False  False  False  False   \n",
       "2    False  False  False  False  False  False  False  False  False  False   \n",
       "3    False  False  False  False  False  False  False  False  False  False   \n",
       "4    False   True  False  False  False   True  False   True   True  False   \n",
       "..     ...    ...    ...    ...    ...    ...    ...    ...    ...    ...   \n",
       "886  False   True  False   True  False  False  False  False  False   True   \n",
       "887  False  False  False  False  False  False  False  False  False  False   \n",
       "888   None  False   None  False  False  False  False  False  False  False   \n",
       "889  False   True  False  False  False  False  False  False   True  False   \n",
       "890  False   True  False  False   True   True   True   True   True  False   \n",
       "\n",
       "     ...    240    241    242    243    244    245    246   247    248   249  \n",
       "0    ...  False  False  False   True  False   True  False  True   True  True  \n",
       "1    ...  False  False  False   True  False  False   True  True  False  True  \n",
       "2    ...  False  False  False  False  False   True  False  True  False  True  \n",
       "3    ...  False  False  False   True  False   True  False  True  False  True  \n",
       "4    ...  False   True   True  False  False   True  False  True  False  True  \n",
       "..   ...    ...    ...    ...    ...    ...    ...    ...   ...    ...   ...  \n",
       "886  ...  False   True  False  False  False   True  False  True  False  True  \n",
       "887  ...  False  False  False  False  False   True  False  True  False  True  \n",
       "888  ...   True  False  False  False  False   True  False  None   None  None  \n",
       "889  ...  False  False  False  False   True  False   True  True  False  True  \n",
       "890  ...  False  False  False  False  False  False   True  True  False  True  \n",
       "\n",
       "[891 rows x 250 columns]"
      ]
     },
     "execution_count": 105,
     "metadata": {},
     "output_type": "execute_result"
    }
   ],
   "source": [
    "msr_conjs = [extrule.to_conjunction() for extrule in MSR_rules]\n",
    "msr_df = convert_sample(mainSample, msr_conjs)\n",
    "msr_df"
   ]
  },
  {
   "cell_type": "code",
   "execution_count": 107,
   "id": "attempted-israeli",
   "metadata": {
    "ExecuteTime": {
     "end_time": "2021-04-21T06:23:40.147453Z",
     "start_time": "2021-04-21T06:23:39.926785Z"
    }
   },
   "outputs": [
    {
     "name": "stdout",
     "output_type": "stream",
     "text": [
      "<#0 != 1> & <#4 = 0> & <#6 != 5> & <#6 != 3> & <#6 != 4> => <#5 != 1>  0.9833333333333333, 3.014899689546847e-17\n",
      "(117, 118)\n",
      "<#1 = True> & <#3 != 2> & <#3 != 4> & <#3 != 5> => <#3 = 1>  0.9922480620155039, 1.02338702237422e-157\n",
      "(127, 127)\n",
      "<#3 = 1> => <#3 != 0> & <#4 != 5> & <#2 != 2> & <#3 != 2> & <#3 != 3> & <#1 = True> & <#4 != 3>  0.972972972972973, 1.3383994696408653e-122\n",
      "(107, 109)\n",
      "<#3 = 2> => <#3 != 0> & <#3 != 1> & <#3 != 5> & <#4 != 6> & <#3 != 3> & <#1 = True>  0.9866666666666667, 1.6201139098002705e-152\n",
      "(147, 148)\n",
      "<#1 = True> => <#3 != 0> & <#3 != 5> & <#4 != 6> & <#3 != 3>  0.9809160305343512, 1.148086393850135e-186\n",
      "(256, 260)\n",
      "<#0 = 1> & <#3 != 3> => <#4 != 5>  0.9945652173913043, 0.000544201617535986\n",
      "(182, 182)\n",
      "<#3 = 0> => <#4 != 5> & <#3 != 1> & <#3 != 5> & <#6 != 5> & <#3 != 4> & <#6 != 4> & <#3 != 2> & <#3 != 3> & <#1 = False> & <#4 != 3> & <#6 != 7>  0.9775, 2.6327306067019033e-196\n",
      "(390, 398)\n",
      "<#3 != 2> & <#3 != 3> => <#4 != 5> & <#6 != 5> & <#4 != 3>  0.9887005649717514, 7.038709766427279e-41\n",
      "(524, 529)\n",
      "<#4 = 0> => <#4 != 5> & <#4 != 1> & <#4 != 6> & <#3 != 3> & <#4 != 3> & <#4 != 4> & <#4 != 2>  0.9939024390243902, 3.2452289438465575e-165\n",
      "(162, 162)\n",
      "<#4 = 2> => <#4 != 5> & <#4 != 0> & <#4 != 1> & <#6 != 6> & <#4 != 6> & <#3 != 3> & <#4 != 3> & <#4 != 4> & <#6 != 7>  0.9949238578680203, 6.333766345078896e-181\n",
      "(195, 195)\n",
      "<#1 = False> & <#3 != 3> => <#4 != 5> & <#6 != 5> & <#6 != 4> & <#4 != 3> & <#6 != 7>  0.9785202863961814, 1.9599207413449887e-28\n",
      "(409, 417)\n",
      "<#0 != 1> & <#0 != 2> => <#0 = 3> & <#3 != 5>  0.9979716024340771, 5.280049230180774e-265\n",
      "(491, 491)\n",
      "<#0 != 1> & <#5 = 0> => <#0 = 3>  0.9955947136563876, 2.038896009679636e-71\n",
      "(225, 225)\n",
      "<#0 = 3> & <#2 != 1> & <#5 != 2> & <#6 = 1> => <#3 != 1>  0.9947643979057592, 2.7033641232463408e-15\n",
      "(189, 189)\n",
      "<#1 = False> => <#3 != 1> & <#3 != 2>  0.998272884283247, 1.3279601025525624e-244\n",
      "(577, 577)\n",
      "<#2 != 0> & <#2 != 2> => <#2 = 1> & <#6 != 6>  0.9941176470588236, 2.0706463276184128e-186\n",
      "(168, 168)\n",
      "<#0 != 3> & <#3 = 0> => <#2 != 2>  0.995, 1.3298308882408745e-09\n",
      "(198, 198)\n",
      "<#0 = 1> => <#2 != 2> & <#5 != 2> & <#0 != 3> & <#0 != 2> & <#5 != 0> & <#6 != 7>  0.981042654028436, 2.5130749300871187e-200\n",
      "(206, 209)\n",
      "<#0 = 2> => <#2 != 2> & <#0 != 1> & <#0 != 3> & <#6 != 6> & <#5 != 0>  0.9722222222222222, 4.1813255517479866e-181\n",
      "(174, 178)\n",
      "<#2 = 0> => <#2 != 2> & <#2 != 1>  0.9984520123839009, 1.6533012066020049e-226\n",
      "(644, 644)\n",
      "<#2 = 1> => <#2 != 2> & <#6 != 6> & <#2 != 0>  0.9941176470588236, 2.0706463276184128e-186\n",
      "(168, 168)\n",
      "<#1 = True> & <#3 != 2> => <#2 != 2> & <#4 != 3>  0.9734513274336283, 0.0004216142004481132\n",
      "(109, 111)\n",
      "<#1 = False> & <#3 != 3> & <#5 != 1> & <#6 != 2> & <#6 != 3> & <#6 != 6> & <#6 != 4> => <#6 = 1>  0.9972375690607734, 4.334544432018888e-118\n",
      "(360, 360)\n",
      "<#2 = 0> & <#3 != 2> & <#3 != 3> & <#4 != 0> & <#4 != 1> & <#4 != 4> & <#4 != 6> => <#4 = 2>  0.9928057553956835, 2.694411516034091e-100\n",
      "(137, 137)\n",
      "<#0 = 3> => <#3 != 5> & <#0 != 1> & <#3 != 4> & <#0 != 2> & <#4 != 6>  0.9831932773109243, 3.9943427575830645e-203\n",
      "(350, 355)\n",
      "<#4 != 1> => <#3 != 5> & <#3 != 4>  0.9884615384615385, 3.144772213979001e-06\n",
      "(513, 518)\n",
      "<#0 != 2> & <#2 = 1> & <#6 != 2> => <#5 != 2>  0.9537037037037037, 9.009229301664561e-10\n",
      "(102, 106)\n",
      "<#0 != 3> & <#0 != 2> => <#5 != 2> & <#0 = 1>  0.9953051643192489, 2.93744506549242e-209\n",
      "(211, 211)\n",
      "<#3 != 2> & <#4 = 0> & <#5 != 1> => <#0 != 1>  0.9904761904761905, 2.4849924312093464e-15\n",
      "(103, 103)\n",
      "<#3 != 2> & <#5 != 3> => <#6 != 5>  0.9942196531791907, 0.0003278269840026047\n",
      "(515, 517)\n",
      "<#0 != 1> => <#3 != 4>  0.9985228951255539, 0.0033337984812704816\n",
      "(675, 675)\n",
      "<#5 != 0> & <#5 != 1> & <#5 != 3> => <#5 = 2>  0.9954337899543378, 3.383329523625353e-212\n",
      "(217, 217)\n",
      "<#0 != 3> & <#0 != 1> => <#0 = 2>  0.9946236559139785, 2.549456781600177e-196\n",
      "(184, 184)\n",
      "<#2 != 0> & <#4 != 0> & <#4 != 3> => <#6 != 4>  0.9915254237288136, 0.0074447246046312025\n",
      "(116, 116)\n",
      "<#4 != 3> & <#5 != 3> => <#6 != 4> & <#6 != 6>  0.9632495164410058, 4.1492650360073845e-08\n",
      "(497, 515)\n",
      "<#0 != 2> & <#5 = 1> & <#6 != 5> & <#6 != 7> & <#6 != 6> & <#6 != 8> & <#6 != 11> => <#0 = 1>  0.9506172839506173, 2.0965410907082753e-111\n",
      "(153, 160)\n",
      "<#5 = 1> & <#6 != 5> & <#6 != 7> & <#6 != 6> & <#6 != 8> & <#6 != 11> => <#0 != 3>  0.9565217391304348, 1.0961987995301362e-63\n",
      "(175, 182)\n",
      "<#2 != 1> & <#4 = 1> & <#5 != 2> => <#3 != 2>  0.9545454545454546, 5.812131400937934e-08\n",
      "(104, 108)\n",
      "<#2 != 0> & <#5 != 2> & <#5 != 3> & <#6 = 1> => <#0 != 2>  0.9908256880733946, 4.1981643291434285e-12\n",
      "(107, 107)\n",
      "<#0 != 3> & <#4 != 0> => <#6 != 6>  0.9933110367892977, 0.00010041175432064608\n",
      "(296, 297)\n",
      "<#3 != 0> => <#4 != 6>  0.9842271293375394, 0.009301980990265279\n",
      "(311, 315)\n",
      "<#1 = True> & <#3 != 1> & <#3 != 4> & <#3 != 5> => <#3 = 2>  0.9946236559139785, 3.2129646285840187e-196\n",
      "(184, 184)\n",
      "<#1 = False> & <#3 != 3> & <#3 != 4> & <#3 != 5> => <#3 = 0>  0.9980732177263969, 5.395356100144559e-262\n",
      "(517, 517)\n",
      "<#2 != 1> & <#3 != 2> & <#5 = 0> => <#3 = 0> & <#1 = False>  0.9933333333333333, 6.800820643519044e-41\n",
      "(148, 148)\n",
      "<#0 = 1> & <#4 != 3> & <#6 != 4> => <#3 != 3>  0.994413407821229, 2.5519010025208807e-05\n",
      "(177, 177)\n",
      "<#4 != 3> & <#4 != 5> => <#3 != 3> & <#6 != 7>  0.9922600619195047, 2.413108030264084e-43\n",
      "(640, 644)\n",
      "<#0 = 3> & <#4 != 5> & <#6 = 1> => <#5 != 3>  0.972972972972973, 5.18230106294894e-25\n",
      "(215, 220)\n",
      "<#0 = 1> & <#6 != 1> => <#5 != 3> & <#5 = 1>  0.9724770642201835, 8.341316559371634e-70\n",
      "(105, 107)\n",
      "<#3 = 0> & <#4 != 1> & <#4 != 2> & <#4 != 4> & <#4 != 6> => <#4 = 0>  0.9818181818181818, 2.1797460194054593e-84\n",
      "(107, 108)\n",
      "<#0 = 3> & <#5 != 2> & <#5 != 3> & <#6 != 5> & <#6 != 7> & <#6 != 6> & <#6 != 8> & <#6 != 11> => <#5 = 0>  0.9656652360515021, 2.633718252901512e-198\n",
      "(224, 231)\n",
      "<#3 != 1> & <#4 = 0> & <#5 != 1> & <#5 != 3> => <#6 != 3>  0.9907407407407407, 8.217941217354136e-08\n",
      "(106, 106)\n",
      "<#0 = 3> & <#3 != 2> & <#4 != 1> & <#6 != 2> & <#6 != 3> & <#6 != 4> => <#1 = False>  0.9775280898876404, 1.9785549673284262e-36\n",
      "(173, 176)\n",
      "<#2 = 0> & <#3 = 0> & <#5 = 2> => <#6 != 2>  0.9776119402985075, 1.1456683722927352e-10\n",
      "(130, 132)\n",
      "<#2 != 1> & <#3 = 0> & <#5 = 2> => <#6 != 2> & <#2 = 0>  0.9703703703703703, 8.657896359404675e-28\n",
      "(130, 133)\n",
      "<#0 = 1> & <#3 != 3> & <#6 != 4> => <#4 != 3>  0.994413407821229, 2.225871831301405e-06\n",
      "(177, 177)\n",
      "<#1 = True> & <#3 != 2> & <#6 != 1> => <#5 != 0>  0.9907407407407407, 1.5187491989477724e-15\n",
      "(106, 106)\n",
      "<#0 = 1> & <#5 != 0> & <#5 != 3> => <#5 = 1>  0.9937888198757764, 3.4288997393112914e-123\n",
      "(159, 159)\n",
      "<#0 != 1> & <#5 != 0> & <#5 != 3> & <#6 = 1> => <#2 != 1>  0.953125, 2.9074353401076316e-11\n",
      "(182, 190)\n",
      "<#0 = 1> & <#1 = False> => <#4 != 4>  0.970873786407767, 0.0012199347295395388\n",
      "(99, 101)\n",
      "<#2 != 1> & <#2 != 2> => <#2 = 0>  0.9984520123839009, 1.6533012066020049e-226\n",
      "(644, 644)\n",
      "<#2 != 0> => <#6 != 7>  0.9959514170040485, 0.02029624914900014\n",
      "(245, 245)\n",
      "<#4 != 5> => <#6 != 7> & <#6 != 8>  0.9811866859623734, 1.3785009405580477e-05\n",
      "(677, 689)\n",
      "<#3 != 3> & <#4 != 4> => <#6 != 8>  0.9967159277504105, 0.0003538414950984585\n",
      "(606, 607)\n"
     ]
    },
    {
     "data": {
      "text/plain": [
       "63"
      ]
     },
     "execution_count": 107,
     "metadata": {},
     "output_type": "execute_result"
    }
   ],
   "source": [
    "sort_MSR = []\n",
    "for rule in MSR_rules:\n",
    "    if rule.prob > 0.95:\n",
    "        sort_MSR.append(rule)\n",
    "        print(rule)\n",
    "        print(calc_supp(rule, extModel))\n",
    "len(sort_MSR)"
   ]
  },
  {
   "cell_type": "code",
   "execution_count": 108,
   "id": "useful-office",
   "metadata": {
    "ExecuteTime": {
     "end_time": "2021-04-21T06:23:45.458043Z",
     "start_time": "2021-04-21T06:23:43.687887Z"
    }
   },
   "outputs": [],
   "source": [
    "# посчитаем кол-во объектов, на которых выполнимы конъюнкции, \n",
    "# а также кол-во конъюнкций, выполнимых на каждом объекте\n",
    "conj_perf = [0]*len(msr_conjs)\n",
    "obj_perf = []\n",
    "for i in range(len(msr_df)):\n",
    "    true_on_obj = 0\n",
    "    obj = msr_df.iloc[i]\n",
    "    for i in obj.keys():\n",
    "        if obj[i] == True:\n",
    "            true_on_obj += 1\n",
    "            conj_perf[i] += 1\n",
    "    obj_perf.append(true_on_obj)"
   ]
  },
  {
   "cell_type": "code",
   "execution_count": null,
   "id": "accepted-footage",
   "metadata": {},
   "outputs": [],
   "source": [
    "# попробуем взять конъюнкции из sort_MSR (63 правила)"
   ]
  },
  {
   "cell_type": "markdown",
   "id": "ready-fellowship",
   "metadata": {},
   "source": [
    "## ТЕСТ 5"
   ]
  },
  {
   "cell_type": "markdown",
   "id": "formal-timothy",
   "metadata": {},
   "source": [
    "только конъюнкции"
   ]
  },
  {
   "cell_type": "code",
   "execution_count": 109,
   "id": "bottom-biotechnology",
   "metadata": {
    "ExecuteTime": {
     "end_time": "2021-04-21T06:23:57.983783Z",
     "start_time": "2021-04-21T06:23:57.588630Z"
    }
   },
   "outputs": [
    {
     "name": "stdout",
     "output_type": "stream",
     "text": [
      "       0      1      2      3      4      5      6      7      8      9  ...  \\\n",
      "0   True  False  False  False  False  False   True   True   True  False  ...   \n",
      "1  False   True   True  False   True   True  False   True  False  False  ...   \n",
      "2  False  False  False   True   True  False  False  False  False   True  ...   \n",
      "3  False   True   True  False   True   True  False   True  False   True  ...   \n",
      "4  False  False  False  False  False  False   True   True  False   True  ...   \n",
      "\n",
      "      54     55     56     57     58     59     60    61    62 Survived  \n",
      "0  False  False  False  False  False   True  False  True  True        0  \n",
      "1   True   True   True  False  False  False   True  True  True        1  \n",
      "2  False  False  False  False  False   True  False  True  True        1  \n",
      "3   True   True   True  False  False   True  False  True  True        1  \n",
      "4  False  False  False   True  False   True  False  True  True        0  \n",
      "\n",
      "[5 rows x 64 columns]\n",
      "{0: 'B', 1: 'B', 2: 'B', 3: 'B', 4: 'B', 5: 'B', 6: 'B', 7: 'B', 8: 'B', 9: 'B', 10: 'B', 11: 'B', 12: 'B', 13: 'B', 14: 'B', 15: 'B', 16: 'B', 17: 'B', 18: 'B', 19: 'B', 20: 'B', 21: 'B', 22: 'B', 23: 'B', 24: 'B', 25: 'B', 26: 'B', 27: 'B', 28: 'B', 29: 'B', 30: 'B', 31: 'B', 32: 'B', 33: 'B', 34: 'B', 35: 'B', 36: 'B', 37: 'B', 38: 'B', 39: 'B', 40: 'B', 41: 'B', 42: 'B', 43: 'B', 44: 'B', 45: 'B', 46: 'B', 47: 'B', 48: 'B', 49: 'B', 50: 'B', 51: 'B', 52: 'B', 53: 'B', 54: 'B', 55: 'B', 56: 'B', 57: 'B', 58: 'B', 59: 'B', 60: 'B', 61: 'B', 62: 'B', 63: 'C'}\n",
      "Label: 63\n"
     ]
    }
   ],
   "source": [
    "conjs5 = [extrule.to_conjunction() for extrule in sort_MSR]\n",
    "\n",
    "train_lbls = pd.read_csv(PATH+\"processed data/train_lbls_titanic.csv\")\n",
    "df5 = convert_sample(mainSample, conjs5)\n",
    "df5[\"Survived\"] = train_lbls[\"Survived\"]\n",
    "print(df5.head())\n",
    "\n",
    "lbl = len(conjs5)\n",
    "\n",
    "bools = list(range(0, len(conjs5)))\n",
    "cats = [lbl]\n",
    "\n",
    "\n",
    "NNsample5 = Sample(data=df5, bool_features=bools, cat_features=cats, label=lbl,\n",
    "                cd_output_path=ENC_PATH+\"NN5train_cd.json\", encoding_output_path=ENC_PATH+\"NN5train_encode.json\")\n",
    "\n",
    "NN5ctype_dict = {i : NNsample5.cd.type_dict[j] for i, j in enumerate(NNsample5.cd.type_dict)}\n",
    "\n",
    "print(NN5ctype_dict)\n",
    "print(\"Label:\", lbl)"
   ]
  },
  {
   "cell_type": "code",
   "execution_count": 110,
   "id": "valued-sending",
   "metadata": {
    "ExecuteTime": {
     "end_time": "2021-04-21T06:24:00.941299Z",
     "start_time": "2021-04-21T06:24:00.882696Z"
    }
   },
   "outputs": [],
   "source": [
    "#     Моделирование NN #5\n",
    "\n",
    "NNmd5 = BaseModel(NNsample5, base_depth=2, fully_depth=999, confidence_level = 0.05, negative_threshold=0.00,\n",
    "               rules_write_path = 'exp_titanic/rules/T5NNRulesBase3_2/', )\n",
    "# 1 час 1 CPU\n",
    "# для генерации правил раскомментировать следующий код:\n",
    "#build_spcr([NNsample5.pt.table[lbl][0][0]], NNmd5)\n",
    "#build_spcr([NNsample5.pt.table[lbl][0][1]], NNmd5)"
   ]
  },
  {
   "cell_type": "code",
   "execution_count": 117,
   "id": "timely-encyclopedia",
   "metadata": {
    "ExecuteTime": {
     "end_time": "2021-04-21T06:25:49.864605Z",
     "start_time": "2021-04-21T06:25:49.494069Z"
    }
   },
   "outputs": [
    {
     "name": "stderr",
     "output_type": "stream",
     "text": [
      "100%|██████████| 4330/4330 [00:00<00:00, 497857.30it/s]\n",
      "100%|██████████| 2295/2295 [00:00<00:00, 526899.54it/s]"
     ]
    },
    {
     "name": "stdout",
     "output_type": "stream",
     "text": [
      "907\n",
      "474\n",
      "Number common features: 0\n",
      "Number conjs features: 63\n",
      "['conj', 'conj', 'conj', 'conj', 'conj', 'conj', 'conj', 'conj', 'conj', 'conj', 'conj', 'conj', 'conj', 'conj', 'conj', 'conj', 'conj', 'conj', 'conj', 'conj', 'conj', 'conj', 'conj', 'conj', 'conj', 'conj', 'conj', 'conj', 'conj', 'conj', 'conj', 'conj', 'conj', 'conj', 'conj', 'conj', 'conj', 'conj', 'conj', 'conj', 'conj', 'conj', 'conj', 'conj', 'conj', 'conj', 'conj', 'conj', 'conj', 'conj', 'conj', 'conj', 'conj', 'conj', 'conj', 'conj', 'conj', 'conj', 'conj', 'conj', 'conj', 'conj', 'conj']\n"
     ]
    },
    {
     "name": "stderr",
     "output_type": "stream",
     "text": [
      "\n"
     ]
    }
   ],
   "source": [
    "neg_rules = decstr(\"exp_titanic/rules/T5NNRulesBase3_2/spcr_<#63 = 0>.txt\", NN5ctype_dict)  # негативные правила (0)\n",
    "pos_rules = decstr(\"exp_titanic/rules/T5NNRulesBase3_2/spcr_<#63 != 0>.txt\", NN5ctype_dict) # позитивные правила (1)\n",
    "\n",
    "# убираем все правила с lbl в посылке\n",
    "neg_rules_sort = []\n",
    "pos_rules_sort = []\n",
    "for rule in tqdm(neg_rules):\n",
    "    add = True\n",
    "    for pr in rule.premise:\n",
    "        if pr.ident == lbl:\n",
    "            add = False\n",
    "            break\n",
    "    if add:\n",
    "        neg_rules_sort.append(rule)\n",
    "\n",
    "for rule in tqdm(pos_rules):\n",
    "    add = True\n",
    "    for pr in rule.premise:\n",
    "        if pr.ident == lbl:\n",
    "            add = False\n",
    "            break\n",
    "    if add:\n",
    "        pos_rules_sort.append(rule)\n",
    "\n",
    "neg_rules_sort = [rule for rule in neg_rules_sort if rule.pvalue < 1e-30]#rule.prob > 0.65]\n",
    "pos_rules_sort = [rule for rule in pos_rules_sort if rule.pvalue < 1e-30]#rule.prob > 0.65]\n",
    "print(len(neg_rules_sort))\n",
    "print(len(pos_rules_sort))\n",
    "\n",
    "num_pr = len(NN5ctype_dict)-1 - len(conjs5)\n",
    "types = [\"pr\"]*num_pr + [\"conj\"]*len(conjs5)\n",
    "\n",
    "print(\"Number common features:\", num_pr)\n",
    "print(\"Number conjs features:\", len(conjs5))\n",
    "print(types)"
   ]
  },
  {
   "cell_type": "code",
   "execution_count": 113,
   "id": "enhanced-secondary",
   "metadata": {
    "ExecuteTime": {
     "end_time": "2021-04-21T06:25:25.321745Z",
     "start_time": "2021-04-21T06:25:24.881063Z"
    }
   },
   "outputs": [
    {
     "name": "stderr",
     "output_type": "stream",
     "text": [
      "100%|██████████| 891/891 [00:00<00:00, 2303.97it/s]\n"
     ]
    },
    {
     "name": "stdout",
     "output_type": "stream",
     "text": [
      "All objects\n",
      "accuracy  :  0.5117845117845118\n",
      "precision  :  0.3822784810126582\n",
      "recall  :  0.4415204678362573\n",
      "f1  :  0.4097693351424695\n",
      "roc_auc  :  0.4985380116959065\n",
      "\n",
      "Selected objects\n"
     ]
    }
   ],
   "source": [
    "preds, sel_preds, metrics, sel_metrics = make_predictions(mainSample.data, y_train, neg_rules_sort, pos_rules_sort, types, conjs5, LOGS_PATH+\"NN5_TR_LOGS.txt\", LOGS_PATH+\"NN5_TR_RULES.txt\")\n",
    "print(\"All objects\")\n",
    "for key, value in metrics.items():\n",
    "    print(key, ' : ', value)\n",
    "print()\n",
    "print(\"Selected objects\")\n",
    "for key, value in sel_metrics.items():\n",
    "    print(key, ' : ', value)"
   ]
  },
  {
   "cell_type": "code",
   "execution_count": 118,
   "id": "celtic-benjamin",
   "metadata": {
    "ExecuteTime": {
     "end_time": "2021-04-21T06:25:58.939394Z",
     "start_time": "2021-04-21T06:25:51.601863Z"
    }
   },
   "outputs": [
    {
     "name": "stderr",
     "output_type": "stream",
     "text": [
      "100%|██████████| 418/418 [00:07<00:00, 57.95it/s]\n"
     ]
    },
    {
     "name": "stdout",
     "output_type": "stream",
     "text": [
      "All objects\n",
      "accuracy  :  0.6578947368421053\n",
      "precision  :  0.5380710659898477\n",
      "recall  :  0.6708860759493671\n",
      "f1  :  0.5971830985915493\n",
      "roc_auc  :  0.6604430379746835\n",
      "\n",
      "Selected objects\n"
     ]
    }
   ],
   "source": [
    "preds, sel_preds, metrics, sel_metrics = make_predictions(mainSampleTest.data, y_test, neg_rules_sort, pos_rules_sort, types, conjs5, LOGS_PATH+\"NN5_T5_LOGS.txt\", LOGS_PATH+\"NN5_T5_RULES.txt\")\n",
    "print(\"All objects\")\n",
    "for key, value in metrics.items():\n",
    "    print(key, ' : ', value)\n",
    "print()\n",
    "print(\"Selected objects\")\n",
    "for key, value in sel_metrics.items():\n",
    "    print(key, ' : ', value)"
   ]
  },
  {
   "cell_type": "markdown",
   "id": "sensitive-batman",
   "metadata": {},
   "source": [
    "## ТЕСТ 6"
   ]
  },
  {
   "cell_type": "markdown",
   "id": "environmental-tuning",
   "metadata": {},
   "source": [
    "добавление конъюнкций к исходным признакам"
   ]
  },
  {
   "cell_type": "code",
   "execution_count": 119,
   "id": "fallen-korea",
   "metadata": {
    "ExecuteTime": {
     "end_time": "2021-04-21T06:26:18.492685Z",
     "start_time": "2021-04-21T06:26:18.100970Z"
    }
   },
   "outputs": [
    {
     "name": "stdout",
     "output_type": "stream",
     "text": [
      "   Pclass     Sex Embarked Title  Age_cat Fare_cat  FSize      0      1  \\\n",
      "0       3    male        S    Mr  Student  quart_1      2   True  False   \n",
      "1       1  female        C   Mrs    Adult  quart_4      2  False   True   \n",
      "2       3  female        S  Miss    Young  quart_1      1  False  False   \n",
      "3       1  female        S   Mrs    Young  quart_4      2  False   True   \n",
      "4       3    male        S    Mr    Young  quart_2      1  False  False   \n",
      "\n",
      "       2  ...     54     55     56     57     58     59     60    61    62  \\\n",
      "0  False  ...  False  False  False  False  False   True  False  True  True   \n",
      "1   True  ...   True   True   True  False  False  False   True  True  True   \n",
      "2  False  ...  False  False  False  False  False   True  False  True  True   \n",
      "3   True  ...   True   True   True  False  False   True  False  True  True   \n",
      "4  False  ...  False  False  False   True  False   True  False  True  True   \n",
      "\n",
      "  Survived  \n",
      "0        0  \n",
      "1        1  \n",
      "2        1  \n",
      "3        1  \n",
      "4        0  \n",
      "\n",
      "[5 rows x 71 columns]\n",
      "{0: 'C', 1: 'B', 2: 'C', 3: 'C', 4: 'C', 5: 'C', 6: 'C', 7: 'B', 8: 'B', 9: 'B', 10: 'B', 11: 'B', 12: 'B', 13: 'B', 14: 'B', 15: 'B', 16: 'B', 17: 'B', 18: 'B', 19: 'B', 20: 'B', 21: 'B', 22: 'B', 23: 'B', 24: 'B', 25: 'B', 26: 'B', 27: 'B', 28: 'B', 29: 'B', 30: 'B', 31: 'B', 32: 'B', 33: 'B', 34: 'B', 35: 'B', 36: 'B', 37: 'B', 38: 'B', 39: 'B', 40: 'B', 41: 'B', 42: 'B', 43: 'B', 44: 'B', 45: 'B', 46: 'B', 47: 'B', 48: 'B', 49: 'B', 50: 'B', 51: 'B', 52: 'B', 53: 'B', 54: 'B', 55: 'B', 56: 'B', 57: 'B', 58: 'B', 59: 'B', 60: 'B', 61: 'B', 62: 'B', 63: 'B', 64: 'B', 65: 'B', 66: 'B', 67: 'B', 68: 'B', 69: 'B', 70: 'C'}\n",
      "Label: 70\n"
     ]
    }
   ],
   "source": [
    "conjs6 = [extrule.to_conjunction() for extrule in sort_MSR]\n",
    "df = pd.read_csv(PATH + \"processed data/train_titanic.csv\")\n",
    "train_lbls = pd.read_csv(PATH+\"processed data/train_lbls_titanic.csv\")\n",
    "new_df = convert_sample(mainSample, conjs6)\n",
    "df6 = pd.concat([df, new_df], axis=1)\n",
    "df6[\"Survived\"] = train_lbls[\"Survived\"]\n",
    "print(df6.head())\n",
    "\n",
    "num_f = 7\n",
    "lbl = num_f + len(conjs6)\n",
    "\n",
    "bools = [1] + list(range(num_f, num_f+len(conjs6)))\n",
    "cats = [0,2,3,4,5,6] + [lbl]\n",
    "\n",
    "NNsample6 = Sample(data=df6, bool_features=bools, cat_features=cats, label=lbl,\n",
    "                cd_output_path=ENC_PATH+\"NN6train_cd.json\", encoding_output_path=ENC_PATH+\"NN6train_encode.json\")\n",
    "\n",
    "NN6ctype_dict = {i : NNsample6.cd.type_dict[j] for i, j in enumerate(NNsample6.cd.type_dict)}\n",
    "\n",
    "print(NN6ctype_dict)\n",
    "print(\"Label:\", lbl)"
   ]
  },
  {
   "cell_type": "code",
   "execution_count": 120,
   "id": "arbitrary-expert",
   "metadata": {
    "ExecuteTime": {
     "end_time": "2021-04-21T06:26:21.541657Z",
     "start_time": "2021-04-21T06:26:21.514302Z"
    }
   },
   "outputs": [],
   "source": [
    "#     Моделирование NN #6\n",
    "\n",
    "NNmd6 = BaseModel(NNsample6, base_depth=2, fully_depth=999, confidence_level = 0.05, negative_threshold=0.00,\n",
    "               rules_write_path = 'exp_titanic/rules/T6NNRulesBase3_2/', )\n",
    "# 5 часов 1 CPU\n",
    "# для генерации правил раскомментировать следующий код:\n",
    "#build_spcr([NNsample6.pt.table[lbl][0][0]], NNmd6)\n",
    "#build_spcr([NNsample6.pt.table[lbl][0][1]], NNmd6)"
   ]
  },
  {
   "cell_type": "code",
   "execution_count": 121,
   "id": "complicated-replication",
   "metadata": {
    "ExecuteTime": {
     "end_time": "2021-04-21T06:27:03.949272Z",
     "start_time": "2021-04-21T06:27:00.669339Z"
    }
   },
   "outputs": [
    {
     "name": "stderr",
     "output_type": "stream",
     "text": [
      "100%|██████████| 23198/23198 [00:00<00:00, 510881.70it/s]\n",
      "100%|██████████| 9659/9659 [00:00<00:00, 374248.57it/s]"
     ]
    },
    {
     "name": "stdout",
     "output_type": "stream",
     "text": [
      "612\n",
      "525\n",
      "Number common features: 7\n",
      "Number conjs features: 63\n",
      "['pr', 'pr', 'pr', 'pr', 'pr', 'pr', 'pr', 'conj', 'conj', 'conj', 'conj', 'conj', 'conj', 'conj', 'conj', 'conj', 'conj', 'conj', 'conj', 'conj', 'conj', 'conj', 'conj', 'conj', 'conj', 'conj', 'conj', 'conj', 'conj', 'conj', 'conj', 'conj', 'conj', 'conj', 'conj', 'conj', 'conj', 'conj', 'conj', 'conj', 'conj', 'conj', 'conj', 'conj', 'conj', 'conj', 'conj', 'conj', 'conj', 'conj', 'conj', 'conj', 'conj', 'conj', 'conj', 'conj', 'conj', 'conj', 'conj', 'conj', 'conj', 'conj', 'conj', 'conj', 'conj', 'conj', 'conj', 'conj', 'conj', 'conj']\n"
     ]
    },
    {
     "name": "stderr",
     "output_type": "stream",
     "text": [
      "\n"
     ]
    }
   ],
   "source": [
    "neg_rules = decstr(\"exp_titanic/rules/T6NNRulesBase3_2/spcr_<#70 = 0>.txt\", NN6ctype_dict)  # негативные правила (0)\n",
    "pos_rules = decstr(\"exp_titanic/rules/T6NNRulesBase3_2/spcr_<#70 != 0>.txt\", NN6ctype_dict) # позитивные правила (1)\n",
    "\n",
    "# убираем все правила с lbl в посылке\n",
    "neg_rules_sort = []\n",
    "pos_rules_sort = []\n",
    "for rule in tqdm(neg_rules):\n",
    "    add = True\n",
    "    for pr in rule.premise:\n",
    "        if pr.ident == lbl:\n",
    "            add = False\n",
    "            break\n",
    "    if add:\n",
    "        neg_rules_sort.append(rule)\n",
    "\n",
    "for rule in tqdm(pos_rules):\n",
    "    add = True\n",
    "    for pr in rule.premise:\n",
    "        if pr.ident == lbl:\n",
    "            add = False\n",
    "            break\n",
    "    if add:\n",
    "        pos_rules_sort.append(rule)\n",
    "\n",
    "neg_rules_sort = [rule for rule in neg_rules_sort if rule.pvalue < 1e-50] # rule.prob > 0.70]\n",
    "pos_rules_sort = [rule for rule in pos_rules_sort if rule.pvalue < 1e-50] #rule.prob > 0.70]\n",
    "print(len(neg_rules_sort))\n",
    "print(len(pos_rules_sort))\n",
    "\n",
    "num_pr = len(NN6ctype_dict)-1 - len(conjs6)\n",
    "types = [\"pr\"]*num_pr + [\"conj\"]*len(conjs6)\n",
    "\n",
    "y_train = train_lbls.values.flatten()\n",
    "\n",
    "print(\"Number common features:\", num_pr)\n",
    "print(\"Number conjs features:\", len(conjs6))\n",
    "print(types)"
   ]
  },
  {
   "cell_type": "code",
   "execution_count": 212,
   "id": "manual-shoot",
   "metadata": {
    "ExecuteTime": {
     "end_time": "2021-04-13T13:52:19.130218Z",
     "start_time": "2021-04-13T13:52:07.764759Z"
    }
   },
   "outputs": [
    {
     "name": "stderr",
     "output_type": "stream",
     "text": [
      "100%|██████████| 891/891 [00:11<00:00, 78.96it/s]\n"
     ]
    },
    {
     "name": "stdout",
     "output_type": "stream",
     "text": [
      "All objects\n",
      "accuracy  :  0.797979797979798\n",
      "precision  :  0.7154255319148937\n",
      "recall  :  0.7865497076023392\n",
      "f1  :  0.7493036211699164\n",
      "roc_auc  :  0.7958249448758509\n",
      "\n",
      "Selected objects\n",
      "accuracy  :  0.8138686131386861\n",
      "precision  :  0.7421383647798742\n",
      "recall  :  0.7687296416938111\n",
      "f1  :  0.7552\n",
      "roc_auc  :  0.8047531703614685\n"
     ]
    }
   ],
   "source": [
    "preds, sel_preds, metrics, sel_metrics = make_predictions(mainSample.data, y_train, neg_rules_sort, pos_rules_sort, types, conjs6, LOGS_PATH+\"NN6_TR_LOGS.txt\", LOGS_PATH+\"NN6_TR_RULES.txt\")\n",
    "print(\"All objects\")\n",
    "for key, value in metrics.items():\n",
    "    print(key, ' : ', value)\n",
    "print()\n",
    "print(\"Selected objects\")\n",
    "for key, value in sel_metrics.items():\n",
    "    print(key, ' : ', value)"
   ]
  },
  {
   "cell_type": "code",
   "execution_count": 122,
   "id": "growing-expression",
   "metadata": {
    "ExecuteTime": {
     "end_time": "2021-04-21T06:27:15.963790Z",
     "start_time": "2021-04-21T06:27:08.946963Z"
    }
   },
   "outputs": [
    {
     "name": "stderr",
     "output_type": "stream",
     "text": [
      "100%|██████████| 418/418 [00:06<00:00, 59.93it/s]"
     ]
    },
    {
     "name": "stdout",
     "output_type": "stream",
     "text": [
      "All objects\n",
      "accuracy  :  0.7607655502392344\n",
      "precision  :  0.6726190476190477\n",
      "recall  :  0.7151898734177216\n",
      "f1  :  0.6932515337423314\n",
      "roc_auc  :  0.75182570593963\n",
      "\n",
      "Selected objects\n"
     ]
    },
    {
     "name": "stderr",
     "output_type": "stream",
     "text": [
      "\n"
     ]
    }
   ],
   "source": [
    "preds, sel_preds, metrics, sel_metrics = make_predictions(mainSampleTest.data, y_test, neg_rules_sort, pos_rules_sort, types, conjs6, LOGS_PATH+\"NN6_TR_LOGS.txt\", LOGS_PATH+\"NN6_TR_RULES.txt\")\n",
    "print(\"All objects\")\n",
    "for key, value in metrics.items():\n",
    "    print(key, ' : ', value)\n",
    "print()\n",
    "print(\"Selected objects\")\n",
    "for key, value in sel_metrics.items():\n",
    "    print(key, ' : ', value)"
   ]
  },
  {
   "cell_type": "code",
   "execution_count": null,
   "id": "divided-baseline",
   "metadata": {},
   "outputs": [],
   "source": []
  },
  {
   "cell_type": "code",
   "execution_count": null,
   "id": "expected-spokesman",
   "metadata": {},
   "outputs": [],
   "source": [
    "\n",
    "\n",
    "    \n",
    "\"\"\"   \n",
    "    \n",
    "l_same_concl_rules = []\n",
    "for k in same_concl_rules.keys():\n",
    "    l_same_concl_rules.append(same_concl_rules[k])\n",
    "    \n",
    "max_spec_rules = []\n",
    "for arr_by_concl in list_unique_rules:\n",
    "    max_prob_rule = arr_by_concl[0]\n",
    "    for rule in arr_by_concl:\n",
    "        if rule.prob > max_prob_rule.prob:\n",
    "            max_prob_rule = rule\n",
    "    max_spec_rules.append(max_prob_rule)\n",
    "print(len(max_spec_rules))\n",
    "\"\"\"\n",
    "\n",
    "threshold_rules = [] \n",
    "for rule in MSR_rules:\n",
    "    if rule.prob > 0.4:\n",
    "        threshold_rules.append(rule)\n",
    "        \n",
    "print(len(threshold_rules))\n",
    "\n",
    "conjs = [extrule.to_conjunction() for extrule in threshold_rules]\n",
    "\n",
    "#train_lbls = pd.read_csv(PATH+\"processed data/train_lbls_titanic.csv\")\n",
    "new_df = convert_sample(mainSample, conjs)\n",
    "new_df\n",
    "\n",
    "conj_perf = [0]*len(conjs)\n",
    "obj_perf = []\n",
    "for i in range(len(new_df)):\n",
    "    num_true_obj = 0\n",
    "    obj = new_df.iloc[i]\n",
    "    for i in obj.keys():\n",
    "        if obj[i] == True:\n",
    "            num_true_obj += 1\n",
    "            conj_perf[i] += 1\n",
    "    obj_perf.append(num_true_obj)\n",
    "n = 0\n",
    "high_perf_rules = []\n",
    "for i, perf in enumerate(conj_perf):\n",
    "    if perf > 300:\n",
    "        high_perf_rules.append(threshold_rules[i])\n",
    "        n+=1\n",
    "    \n",
    "    #print(i, perf)\n",
    "print(n)\n",
    "\n",
    "# 53\n",
    "conjs = [extrule.to_conjunction() for extrule in high_perf_rules]\n",
    "\n",
    "#train_lbls = pd.read_csv(PATH+\"processed data/train_lbls_titanic.csv\")\n",
    "high_perf_df = convert_sample(mainSample, conjs)\n",
    "high_perf_df\n",
    "\n",
    "\n",
    "conj_perf = [0]*len(conjs)\n",
    "obj_perf = []\n",
    "for i in range(len(high_perf_df)):\n",
    "    num_true_obj = 0\n",
    "    obj = high_perf_df.iloc[i]\n",
    "    for i in obj.keys():\n",
    "        if obj[i] == True:\n",
    "            num_true_obj += 1\n",
    "            conj_perf[i] += 1\n",
    "    obj_perf.append(num_true_obj)\n",
    "    \n",
    "za = 0\n",
    "for obj in obj_perf:\n",
    "    if obj > :\n",
    "        za += 1\n",
    "print(za)\n",
    "\n",
    "for i, perf in enumerate(obj_perf):\n",
    "    print(i, perf)\n",
    "    \n",
    "bools = list(range(len(conjs)))\n",
    "\n",
    "TestSample = Sample(data=new_df, bool_features=bools,\n",
    "                cd_output_path=PATH+\"TESTtrain_cd.json\", encoding_output_path=PATH+\"TESTtrain_encode.json\")\n",
    "\n",
    "print(threshold_rules[446])\n",
    "\n",
    "calc_probs(threshold_rules[446], extModel)"
   ]
  },
  {
   "cell_type": "code",
   "execution_count": null,
   "id": "minimal-flower",
   "metadata": {},
   "outputs": [],
   "source": []
  },
  {
   "cell_type": "code",
   "execution_count": 230,
   "id": "accomplished-species",
   "metadata": {
    "ExecuteTime": {
     "end_time": "2021-04-13T14:13:27.114009Z",
     "start_time": "2021-04-13T14:13:27.032088Z"
    }
   },
   "outputs": [],
   "source": [
    "# to kaggle submission\n",
    "survived = pd.DataFrame([preds, list(range(892,1310))]).T\n",
    "survived.columns = ['Survived', 'PassengerId']#.reset_index()#to_csv('predicted.csv')\n",
    "survived.to_csv('predicted.csv', index=False)"
   ]
  }
 ],
 "metadata": {
  "kernelspec": {
   "display_name": "Python 3.8.5 64-bit ('anaconda3': virtualenv)",
   "language": "python",
   "name": "python38564bitanaconda3virtualenv311448241f784b5cbf4c5a8a690249f4"
  },
  "language_info": {
   "codemirror_mode": {
    "name": "ipython",
    "version": 3
   },
   "file_extension": ".py",
   "mimetype": "text/x-python",
   "name": "python",
   "nbconvert_exporter": "python",
   "pygments_lexer": "ipython3",
   "version": "3.8.5"
  }
 },
 "nbformat": 4,
 "nbformat_minor": 5
}
